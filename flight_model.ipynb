{
 "cells": [
  {
   "cell_type": "code",
   "execution_count": 129,
   "metadata": {},
   "outputs": [],
   "source": [
    "import numpy as np"
   ]
  },
  {
   "cell_type": "code",
   "execution_count": 130,
   "metadata": {},
   "outputs": [],
   "source": [
    "import pandas as pd\n",
    "import matplotlib.pyplot as plt\n",
    "%matplotlib inline"
   ]
  },
  {
   "cell_type": "code",
   "execution_count": 131,
   "metadata": {},
   "outputs": [],
   "source": [
    "import seaborn as sns"
   ]
  },
  {
   "cell_type": "code",
   "execution_count": 132,
   "metadata": {},
   "outputs": [],
   "source": [
    "train1 = pd.read_csv(\"C:\\\\Users\\\\Acer\\\\Desktop\\\\flight delay dataset\\\\Jan_2019_ontime.csv\")"
   ]
  },
  {
   "cell_type": "code",
   "execution_count": 133,
   "metadata": {},
   "outputs": [],
   "source": [
    "train2 = pd.read_csv(\"C:\\\\Users\\\\Acer\\\\Desktop\\\\flight delay dataset\\\\Jan_2020_ontime.csv\")"
   ]
  },
  {
   "cell_type": "markdown",
   "metadata": {},
   "source": [
    "DAY_OF_MONTH - Day of Month\n",
    "DAY_OF_WEEK - Day of Week starting from Monday.\n",
    "OP_UNIQUE_CARRIER - Unique Carrier Code. When the same code has been used by multiple carriers, a numeric suffix is used for earlier users, for example, PA, PA(1), PA(2).\n",
    "OP_CARRIER_AIRLINE_ID - An identification number assigned by US DOT to identify a unique airline (carrier). A unique airline (carrier) is defined as one holding and reporting under the same DOT certificate regardless of its Code, Name, or holding company/corporation.\n",
    "OP_CARRIER - Code assigned by IATA and commonly used to identify a carrier. As the same code may have been assigned to different carriers over time, the code is not always unique.\n",
    "TAIL_NUM - Tail Number\n",
    "OP_CARRIER_FL_NUM - Flight Number\n",
    "ORIGIN_AIRPORT_ID - Origin Airport, \n",
    "Airport ID. An identification number assigned by US DOT to identify a unique airport.\n",
    "ORIGIN_AIRPORT_SEQ_ID - Origin Airport, \n",
    "Airport Sequence ID. An identification number assigned by US DOT to identify a unique airport at a given point of time.\n",
    "ORIGINOrigin Airport\n",
    "DEST_AIRPORT_ID - Destination Airport, Airport ID. An identification number assigned by US DOT to identify a unique airport.\n",
    "DEST_AIRPORT_SEQ_ID - Destination Airport, Airport Sequence ID. An identification number assigned by US DOT to identify a unique airport at a given point of time.\n",
    "DEST - Destination Airport\n",
    "DEP_TIME - Actual Departure Time (local time: hhmm)\n",
    "DEP_DEL15 - Departure Delay Indicator, 15 Minutes or More (1=Yes, 0=No)\n",
    "DEP_TIME_BLK - Departure Time Block, Hourly Intervals\n",
    "ARR_TIME - Actual Arrival Time (local time: hhmm)\n",
    "ARR_DEL15 - Arrival Delay Indicator, 15 Minutes or More (1=Yes, 0=No)\n",
    "CANCELLED - Cancelled Flight Indicator (1=Yes, 0=No)\n",
    "DIVERTED - Diverted Flight Indicator (1=Yes, 0=No)\n",
    "DISTANCE - Distance between airports (miles)"
   ]
  },
  {
   "cell_type": "code",
   "execution_count": 134,
   "metadata": {
    "scrolled": true
   },
   "outputs": [
    {
     "data": {
      "text/html": [
       "<div>\n",
       "<style scoped>\n",
       "    .dataframe tbody tr th:only-of-type {\n",
       "        vertical-align: middle;\n",
       "    }\n",
       "\n",
       "    .dataframe tbody tr th {\n",
       "        vertical-align: top;\n",
       "    }\n",
       "\n",
       "    .dataframe thead th {\n",
       "        text-align: right;\n",
       "    }\n",
       "</style>\n",
       "<table border=\"1\" class=\"dataframe\">\n",
       "  <thead>\n",
       "    <tr style=\"text-align: right;\">\n",
       "      <th></th>\n",
       "      <th>DAY_OF_MONTH</th>\n",
       "      <th>DAY_OF_WEEK</th>\n",
       "      <th>OP_UNIQUE_CARRIER</th>\n",
       "      <th>OP_CARRIER_AIRLINE_ID</th>\n",
       "      <th>OP_CARRIER</th>\n",
       "      <th>TAIL_NUM</th>\n",
       "      <th>OP_CARRIER_FL_NUM</th>\n",
       "      <th>ORIGIN_AIRPORT_ID</th>\n",
       "      <th>ORIGIN_AIRPORT_SEQ_ID</th>\n",
       "      <th>ORIGIN</th>\n",
       "      <th>...</th>\n",
       "      <th>DEST</th>\n",
       "      <th>DEP_TIME</th>\n",
       "      <th>DEP_DEL15</th>\n",
       "      <th>DEP_TIME_BLK</th>\n",
       "      <th>ARR_TIME</th>\n",
       "      <th>ARR_DEL15</th>\n",
       "      <th>CANCELLED</th>\n",
       "      <th>DIVERTED</th>\n",
       "      <th>DISTANCE</th>\n",
       "      <th>Unnamed: 21</th>\n",
       "    </tr>\n",
       "  </thead>\n",
       "  <tbody>\n",
       "    <tr>\n",
       "      <th>0</th>\n",
       "      <td>1</td>\n",
       "      <td>2</td>\n",
       "      <td>9E</td>\n",
       "      <td>20363</td>\n",
       "      <td>9E</td>\n",
       "      <td>N8688C</td>\n",
       "      <td>3280</td>\n",
       "      <td>11953</td>\n",
       "      <td>1195302</td>\n",
       "      <td>GNV</td>\n",
       "      <td>...</td>\n",
       "      <td>ATL</td>\n",
       "      <td>601.0</td>\n",
       "      <td>0.0</td>\n",
       "      <td>0600-0659</td>\n",
       "      <td>722.0</td>\n",
       "      <td>0.0</td>\n",
       "      <td>0.0</td>\n",
       "      <td>0.0</td>\n",
       "      <td>300.0</td>\n",
       "      <td>NaN</td>\n",
       "    </tr>\n",
       "    <tr>\n",
       "      <th>1</th>\n",
       "      <td>1</td>\n",
       "      <td>2</td>\n",
       "      <td>9E</td>\n",
       "      <td>20363</td>\n",
       "      <td>9E</td>\n",
       "      <td>N348PQ</td>\n",
       "      <td>3281</td>\n",
       "      <td>13487</td>\n",
       "      <td>1348702</td>\n",
       "      <td>MSP</td>\n",
       "      <td>...</td>\n",
       "      <td>CVG</td>\n",
       "      <td>1359.0</td>\n",
       "      <td>0.0</td>\n",
       "      <td>1400-1459</td>\n",
       "      <td>1633.0</td>\n",
       "      <td>0.0</td>\n",
       "      <td>0.0</td>\n",
       "      <td>0.0</td>\n",
       "      <td>596.0</td>\n",
       "      <td>NaN</td>\n",
       "    </tr>\n",
       "    <tr>\n",
       "      <th>2</th>\n",
       "      <td>1</td>\n",
       "      <td>2</td>\n",
       "      <td>9E</td>\n",
       "      <td>20363</td>\n",
       "      <td>9E</td>\n",
       "      <td>N8896A</td>\n",
       "      <td>3282</td>\n",
       "      <td>11433</td>\n",
       "      <td>1143302</td>\n",
       "      <td>DTW</td>\n",
       "      <td>...</td>\n",
       "      <td>CVG</td>\n",
       "      <td>1215.0</td>\n",
       "      <td>0.0</td>\n",
       "      <td>1200-1259</td>\n",
       "      <td>1329.0</td>\n",
       "      <td>0.0</td>\n",
       "      <td>0.0</td>\n",
       "      <td>0.0</td>\n",
       "      <td>229.0</td>\n",
       "      <td>NaN</td>\n",
       "    </tr>\n",
       "    <tr>\n",
       "      <th>3</th>\n",
       "      <td>1</td>\n",
       "      <td>2</td>\n",
       "      <td>9E</td>\n",
       "      <td>20363</td>\n",
       "      <td>9E</td>\n",
       "      <td>N8886A</td>\n",
       "      <td>3283</td>\n",
       "      <td>15249</td>\n",
       "      <td>1524906</td>\n",
       "      <td>TLH</td>\n",
       "      <td>...</td>\n",
       "      <td>ATL</td>\n",
       "      <td>1521.0</td>\n",
       "      <td>0.0</td>\n",
       "      <td>1500-1559</td>\n",
       "      <td>1625.0</td>\n",
       "      <td>0.0</td>\n",
       "      <td>0.0</td>\n",
       "      <td>0.0</td>\n",
       "      <td>223.0</td>\n",
       "      <td>NaN</td>\n",
       "    </tr>\n",
       "    <tr>\n",
       "      <th>4</th>\n",
       "      <td>1</td>\n",
       "      <td>2</td>\n",
       "      <td>9E</td>\n",
       "      <td>20363</td>\n",
       "      <td>9E</td>\n",
       "      <td>N8974C</td>\n",
       "      <td>3284</td>\n",
       "      <td>10397</td>\n",
       "      <td>1039707</td>\n",
       "      <td>ATL</td>\n",
       "      <td>...</td>\n",
       "      <td>FSM</td>\n",
       "      <td>1847.0</td>\n",
       "      <td>0.0</td>\n",
       "      <td>1900-1959</td>\n",
       "      <td>1940.0</td>\n",
       "      <td>0.0</td>\n",
       "      <td>0.0</td>\n",
       "      <td>0.0</td>\n",
       "      <td>579.0</td>\n",
       "      <td>NaN</td>\n",
       "    </tr>\n",
       "  </tbody>\n",
       "</table>\n",
       "<p>5 rows × 22 columns</p>\n",
       "</div>"
      ],
      "text/plain": [
       "   DAY_OF_MONTH  DAY_OF_WEEK OP_UNIQUE_CARRIER  OP_CARRIER_AIRLINE_ID  \\\n",
       "0             1            2                9E                  20363   \n",
       "1             1            2                9E                  20363   \n",
       "2             1            2                9E                  20363   \n",
       "3             1            2                9E                  20363   \n",
       "4             1            2                9E                  20363   \n",
       "\n",
       "  OP_CARRIER TAIL_NUM  OP_CARRIER_FL_NUM  ORIGIN_AIRPORT_ID  \\\n",
       "0         9E   N8688C               3280              11953   \n",
       "1         9E   N348PQ               3281              13487   \n",
       "2         9E   N8896A               3282              11433   \n",
       "3         9E   N8886A               3283              15249   \n",
       "4         9E   N8974C               3284              10397   \n",
       "\n",
       "   ORIGIN_AIRPORT_SEQ_ID ORIGIN     ...       DEST  DEP_TIME DEP_DEL15  \\\n",
       "0                1195302    GNV     ...        ATL     601.0       0.0   \n",
       "1                1348702    MSP     ...        CVG    1359.0       0.0   \n",
       "2                1143302    DTW     ...        CVG    1215.0       0.0   \n",
       "3                1524906    TLH     ...        ATL    1521.0       0.0   \n",
       "4                1039707    ATL     ...        FSM    1847.0       0.0   \n",
       "\n",
       "   DEP_TIME_BLK  ARR_TIME ARR_DEL15  CANCELLED  DIVERTED  DISTANCE  \\\n",
       "0     0600-0659     722.0       0.0        0.0       0.0     300.0   \n",
       "1     1400-1459    1633.0       0.0        0.0       0.0     596.0   \n",
       "2     1200-1259    1329.0       0.0        0.0       0.0     229.0   \n",
       "3     1500-1559    1625.0       0.0        0.0       0.0     223.0   \n",
       "4     1900-1959    1940.0       0.0        0.0       0.0     579.0   \n",
       "\n",
       "   Unnamed: 21  \n",
       "0          NaN  \n",
       "1          NaN  \n",
       "2          NaN  \n",
       "3          NaN  \n",
       "4          NaN  \n",
       "\n",
       "[5 rows x 22 columns]"
      ]
     },
     "execution_count": 134,
     "metadata": {},
     "output_type": "execute_result"
    }
   ],
   "source": [
    "train1.head()"
   ]
  },
  {
   "cell_type": "code",
   "execution_count": 135,
   "metadata": {},
   "outputs": [
    {
     "data": {
      "text/html": [
       "<div>\n",
       "<style scoped>\n",
       "    .dataframe tbody tr th:only-of-type {\n",
       "        vertical-align: middle;\n",
       "    }\n",
       "\n",
       "    .dataframe tbody tr th {\n",
       "        vertical-align: top;\n",
       "    }\n",
       "\n",
       "    .dataframe thead th {\n",
       "        text-align: right;\n",
       "    }\n",
       "</style>\n",
       "<table border=\"1\" class=\"dataframe\">\n",
       "  <thead>\n",
       "    <tr style=\"text-align: right;\">\n",
       "      <th></th>\n",
       "      <th>DAY_OF_MONTH</th>\n",
       "      <th>DAY_OF_WEEK</th>\n",
       "      <th>OP_UNIQUE_CARRIER</th>\n",
       "      <th>OP_CARRIER_AIRLINE_ID</th>\n",
       "      <th>OP_CARRIER</th>\n",
       "      <th>TAIL_NUM</th>\n",
       "      <th>OP_CARRIER_FL_NUM</th>\n",
       "      <th>ORIGIN_AIRPORT_ID</th>\n",
       "      <th>ORIGIN_AIRPORT_SEQ_ID</th>\n",
       "      <th>ORIGIN</th>\n",
       "      <th>...</th>\n",
       "      <th>DEST</th>\n",
       "      <th>DEP_TIME</th>\n",
       "      <th>DEP_DEL15</th>\n",
       "      <th>DEP_TIME_BLK</th>\n",
       "      <th>ARR_TIME</th>\n",
       "      <th>ARR_DEL15</th>\n",
       "      <th>CANCELLED</th>\n",
       "      <th>DIVERTED</th>\n",
       "      <th>DISTANCE</th>\n",
       "      <th>Unnamed: 21</th>\n",
       "    </tr>\n",
       "  </thead>\n",
       "  <tbody>\n",
       "    <tr>\n",
       "      <th>0</th>\n",
       "      <td>1</td>\n",
       "      <td>3</td>\n",
       "      <td>EV</td>\n",
       "      <td>20366</td>\n",
       "      <td>EV</td>\n",
       "      <td>N48901</td>\n",
       "      <td>4397</td>\n",
       "      <td>13930</td>\n",
       "      <td>1393007</td>\n",
       "      <td>ORD</td>\n",
       "      <td>...</td>\n",
       "      <td>GRB</td>\n",
       "      <td>1003.0</td>\n",
       "      <td>0.0</td>\n",
       "      <td>1000-1059</td>\n",
       "      <td>1117.0</td>\n",
       "      <td>0.0</td>\n",
       "      <td>0.0</td>\n",
       "      <td>0.0</td>\n",
       "      <td>174.0</td>\n",
       "      <td>NaN</td>\n",
       "    </tr>\n",
       "    <tr>\n",
       "      <th>1</th>\n",
       "      <td>1</td>\n",
       "      <td>3</td>\n",
       "      <td>EV</td>\n",
       "      <td>20366</td>\n",
       "      <td>EV</td>\n",
       "      <td>N16976</td>\n",
       "      <td>4401</td>\n",
       "      <td>15370</td>\n",
       "      <td>1537002</td>\n",
       "      <td>TUL</td>\n",
       "      <td>...</td>\n",
       "      <td>ORD</td>\n",
       "      <td>1027.0</td>\n",
       "      <td>0.0</td>\n",
       "      <td>1000-1059</td>\n",
       "      <td>1216.0</td>\n",
       "      <td>0.0</td>\n",
       "      <td>0.0</td>\n",
       "      <td>0.0</td>\n",
       "      <td>585.0</td>\n",
       "      <td>NaN</td>\n",
       "    </tr>\n",
       "    <tr>\n",
       "      <th>2</th>\n",
       "      <td>1</td>\n",
       "      <td>3</td>\n",
       "      <td>EV</td>\n",
       "      <td>20366</td>\n",
       "      <td>EV</td>\n",
       "      <td>N12167</td>\n",
       "      <td>4404</td>\n",
       "      <td>11618</td>\n",
       "      <td>1161802</td>\n",
       "      <td>EWR</td>\n",
       "      <td>...</td>\n",
       "      <td>TYS</td>\n",
       "      <td>1848.0</td>\n",
       "      <td>0.0</td>\n",
       "      <td>1800-1859</td>\n",
       "      <td>2120.0</td>\n",
       "      <td>0.0</td>\n",
       "      <td>0.0</td>\n",
       "      <td>0.0</td>\n",
       "      <td>631.0</td>\n",
       "      <td>NaN</td>\n",
       "    </tr>\n",
       "    <tr>\n",
       "      <th>3</th>\n",
       "      <td>1</td>\n",
       "      <td>3</td>\n",
       "      <td>EV</td>\n",
       "      <td>20366</td>\n",
       "      <td>EV</td>\n",
       "      <td>N14902</td>\n",
       "      <td>4405</td>\n",
       "      <td>10781</td>\n",
       "      <td>1078105</td>\n",
       "      <td>BTR</td>\n",
       "      <td>...</td>\n",
       "      <td>IAH</td>\n",
       "      <td>1846.0</td>\n",
       "      <td>0.0</td>\n",
       "      <td>1800-1859</td>\n",
       "      <td>2004.0</td>\n",
       "      <td>0.0</td>\n",
       "      <td>0.0</td>\n",
       "      <td>0.0</td>\n",
       "      <td>253.0</td>\n",
       "      <td>NaN</td>\n",
       "    </tr>\n",
       "    <tr>\n",
       "      <th>4</th>\n",
       "      <td>1</td>\n",
       "      <td>3</td>\n",
       "      <td>EV</td>\n",
       "      <td>20366</td>\n",
       "      <td>EV</td>\n",
       "      <td>N606UX</td>\n",
       "      <td>4407</td>\n",
       "      <td>14524</td>\n",
       "      <td>1452401</td>\n",
       "      <td>RIC</td>\n",
       "      <td>...</td>\n",
       "      <td>IAH</td>\n",
       "      <td>1038.0</td>\n",
       "      <td>0.0</td>\n",
       "      <td>1000-1059</td>\n",
       "      <td>1330.0</td>\n",
       "      <td>0.0</td>\n",
       "      <td>0.0</td>\n",
       "      <td>0.0</td>\n",
       "      <td>1157.0</td>\n",
       "      <td>NaN</td>\n",
       "    </tr>\n",
       "  </tbody>\n",
       "</table>\n",
       "<p>5 rows × 22 columns</p>\n",
       "</div>"
      ],
      "text/plain": [
       "   DAY_OF_MONTH  DAY_OF_WEEK OP_UNIQUE_CARRIER  OP_CARRIER_AIRLINE_ID  \\\n",
       "0             1            3                EV                  20366   \n",
       "1             1            3                EV                  20366   \n",
       "2             1            3                EV                  20366   \n",
       "3             1            3                EV                  20366   \n",
       "4             1            3                EV                  20366   \n",
       "\n",
       "  OP_CARRIER TAIL_NUM  OP_CARRIER_FL_NUM  ORIGIN_AIRPORT_ID  \\\n",
       "0         EV   N48901               4397              13930   \n",
       "1         EV   N16976               4401              15370   \n",
       "2         EV   N12167               4404              11618   \n",
       "3         EV   N14902               4405              10781   \n",
       "4         EV   N606UX               4407              14524   \n",
       "\n",
       "   ORIGIN_AIRPORT_SEQ_ID ORIGIN     ...       DEST  DEP_TIME DEP_DEL15  \\\n",
       "0                1393007    ORD     ...        GRB    1003.0       0.0   \n",
       "1                1537002    TUL     ...        ORD    1027.0       0.0   \n",
       "2                1161802    EWR     ...        TYS    1848.0       0.0   \n",
       "3                1078105    BTR     ...        IAH    1846.0       0.0   \n",
       "4                1452401    RIC     ...        IAH    1038.0       0.0   \n",
       "\n",
       "   DEP_TIME_BLK  ARR_TIME ARR_DEL15  CANCELLED  DIVERTED  DISTANCE  \\\n",
       "0     1000-1059    1117.0       0.0        0.0       0.0     174.0   \n",
       "1     1000-1059    1216.0       0.0        0.0       0.0     585.0   \n",
       "2     1800-1859    2120.0       0.0        0.0       0.0     631.0   \n",
       "3     1800-1859    2004.0       0.0        0.0       0.0     253.0   \n",
       "4     1000-1059    1330.0       0.0        0.0       0.0    1157.0   \n",
       "\n",
       "   Unnamed: 21  \n",
       "0          NaN  \n",
       "1          NaN  \n",
       "2          NaN  \n",
       "3          NaN  \n",
       "4          NaN  \n",
       "\n",
       "[5 rows x 22 columns]"
      ]
     },
     "execution_count": 135,
     "metadata": {},
     "output_type": "execute_result"
    }
   ],
   "source": [
    "train2.head()"
   ]
  },
  {
   "cell_type": "code",
   "execution_count": 136,
   "metadata": {},
   "outputs": [
    {
     "data": {
      "text/plain": [
       "22"
      ]
     },
     "execution_count": 136,
     "metadata": {},
     "output_type": "execute_result"
    }
   ],
   "source": [
    "len(train1.columns)"
   ]
  },
  {
   "cell_type": "code",
   "execution_count": 137,
   "metadata": {},
   "outputs": [
    {
     "name": "stdout",
     "output_type": "stream",
     "text": [
      "<class 'pandas.core.frame.DataFrame'>\n",
      "RangeIndex: 583985 entries, 0 to 583984\n",
      "Data columns (total 22 columns):\n",
      "DAY_OF_MONTH             583985 non-null int64\n",
      "DAY_OF_WEEK              583985 non-null int64\n",
      "OP_UNIQUE_CARRIER        583985 non-null object\n",
      "OP_CARRIER_AIRLINE_ID    583985 non-null int64\n",
      "OP_CARRIER               583985 non-null object\n",
      "TAIL_NUM                 581442 non-null object\n",
      "OP_CARRIER_FL_NUM        583985 non-null int64\n",
      "ORIGIN_AIRPORT_ID        583985 non-null int64\n",
      "ORIGIN_AIRPORT_SEQ_ID    583985 non-null int64\n",
      "ORIGIN                   583985 non-null object\n",
      "DEST_AIRPORT_ID          583985 non-null int64\n",
      "DEST_AIRPORT_SEQ_ID      583985 non-null int64\n",
      "DEST                     583985 non-null object\n",
      "DEP_TIME                 567633 non-null float64\n",
      "DEP_DEL15                567630 non-null float64\n",
      "DEP_TIME_BLK             583985 non-null object\n",
      "ARR_TIME                 566924 non-null float64\n",
      "ARR_DEL15                565963 non-null float64\n",
      "CANCELLED                583985 non-null float64\n",
      "DIVERTED                 583985 non-null float64\n",
      "DISTANCE                 583985 non-null float64\n",
      "Unnamed: 21              0 non-null float64\n",
      "dtypes: float64(8), int64(8), object(6)\n",
      "memory usage: 98.0+ MB\n"
     ]
    }
   ],
   "source": [
    "train1.info()"
   ]
  },
  {
   "cell_type": "code",
   "execution_count": 138,
   "metadata": {},
   "outputs": [],
   "source": [
    "train1.drop(columns=\"Unnamed: 21\",inplace=True)"
   ]
  },
  {
   "cell_type": "code",
   "execution_count": 139,
   "metadata": {},
   "outputs": [],
   "source": [
    "train2.drop(columns=\"Unnamed: 21\",inplace=True)"
   ]
  },
  {
   "cell_type": "code",
   "execution_count": 140,
   "metadata": {},
   "outputs": [
    {
     "data": {
      "text/plain": [
       "DAY_OF_MONTH             0.000000\n",
       "DAY_OF_WEEK              0.000000\n",
       "OP_UNIQUE_CARRIER        0.000000\n",
       "OP_CARRIER_AIRLINE_ID    0.000000\n",
       "OP_CARRIER               0.000000\n",
       "TAIL_NUM                 0.435456\n",
       "OP_CARRIER_FL_NUM        0.000000\n",
       "ORIGIN_AIRPORT_ID        0.000000\n",
       "ORIGIN_AIRPORT_SEQ_ID    0.000000\n",
       "ORIGIN                   0.000000\n",
       "DEST_AIRPORT_ID          0.000000\n",
       "DEST_AIRPORT_SEQ_ID      0.000000\n",
       "DEST                     0.000000\n",
       "DEP_TIME                 2.800072\n",
       "DEP_DEL15                2.800586\n",
       "DEP_TIME_BLK             0.000000\n",
       "ARR_TIME                 2.921479\n",
       "ARR_DEL15                3.086038\n",
       "CANCELLED                0.000000\n",
       "DIVERTED                 0.000000\n",
       "DISTANCE                 0.000000\n",
       "dtype: float64"
      ]
     },
     "execution_count": 140,
     "metadata": {},
     "output_type": "execute_result"
    }
   ],
   "source": [
    "(train1.isnull().sum()/len(train1))*100"
   ]
  },
  {
   "cell_type": "code",
   "execution_count": 141,
   "metadata": {},
   "outputs": [
    {
     "data": {
      "text/plain": [
       "Index(['DAY_OF_MONTH', 'DAY_OF_WEEK', 'OP_UNIQUE_CARRIER',\n",
       "       'OP_CARRIER_AIRLINE_ID', 'OP_CARRIER', 'TAIL_NUM', 'OP_CARRIER_FL_NUM',\n",
       "       'ORIGIN_AIRPORT_ID', 'ORIGIN_AIRPORT_SEQ_ID', 'ORIGIN',\n",
       "       'DEST_AIRPORT_ID', 'DEST_AIRPORT_SEQ_ID', 'DEST', 'DEP_TIME',\n",
       "       'DEP_DEL15', 'DEP_TIME_BLK', 'ARR_TIME', 'ARR_DEL15', 'CANCELLED',\n",
       "       'DIVERTED', 'DISTANCE'],\n",
       "      dtype='object')"
      ]
     },
     "execution_count": 141,
     "metadata": {},
     "output_type": "execute_result"
    }
   ],
   "source": [
    "((train1.dtypes != \"object\").index)"
   ]
  },
  {
   "cell_type": "code",
   "execution_count": 142,
   "metadata": {},
   "outputs": [
    {
     "data": {
      "text/plain": [
       "Index(['DAY_OF_MONTH', 'DAY_OF_WEEK', 'OP_UNIQUE_CARRIER',\n",
       "       'OP_CARRIER_AIRLINE_ID', 'OP_CARRIER', 'TAIL_NUM', 'OP_CARRIER_FL_NUM',\n",
       "       'ORIGIN_AIRPORT_ID', 'ORIGIN_AIRPORT_SEQ_ID', 'ORIGIN',\n",
       "       'DEST_AIRPORT_ID', 'DEST_AIRPORT_SEQ_ID', 'DEST', 'DEP_TIME',\n",
       "       'DEP_DEL15', 'DEP_TIME_BLK', 'ARR_TIME', 'ARR_DEL15', 'CANCELLED',\n",
       "       'DIVERTED', 'DISTANCE'],\n",
       "      dtype='object')"
      ]
     },
     "execution_count": 142,
     "metadata": {},
     "output_type": "execute_result"
    }
   ],
   "source": [
    "((train2.dtypes != \"object\").index)"
   ]
  },
  {
   "cell_type": "code",
   "execution_count": 143,
   "metadata": {},
   "outputs": [],
   "source": [
    "df = pd.concat([train1,train2])"
   ]
  },
  {
   "cell_type": "code",
   "execution_count": 144,
   "metadata": {},
   "outputs": [
    {
     "data": {
      "text/plain": [
       "(1191331, 21)"
      ]
     },
     "execution_count": 144,
     "metadata": {},
     "output_type": "execute_result"
    }
   ],
   "source": [
    "df.shape"
   ]
  },
  {
   "cell_type": "code",
   "execution_count": 145,
   "metadata": {},
   "outputs": [
    {
     "data": {
      "text/html": [
       "<div>\n",
       "<style scoped>\n",
       "    .dataframe tbody tr th:only-of-type {\n",
       "        vertical-align: middle;\n",
       "    }\n",
       "\n",
       "    .dataframe tbody tr th {\n",
       "        vertical-align: top;\n",
       "    }\n",
       "\n",
       "    .dataframe thead th {\n",
       "        text-align: right;\n",
       "    }\n",
       "</style>\n",
       "<table border=\"1\" class=\"dataframe\">\n",
       "  <thead>\n",
       "    <tr style=\"text-align: right;\">\n",
       "      <th></th>\n",
       "      <th>DAY_OF_MONTH</th>\n",
       "      <th>DAY_OF_WEEK</th>\n",
       "      <th>OP_CARRIER_AIRLINE_ID</th>\n",
       "      <th>OP_CARRIER_FL_NUM</th>\n",
       "      <th>ORIGIN_AIRPORT_ID</th>\n",
       "      <th>ORIGIN_AIRPORT_SEQ_ID</th>\n",
       "      <th>DEST_AIRPORT_ID</th>\n",
       "      <th>DEST_AIRPORT_SEQ_ID</th>\n",
       "      <th>DEP_TIME</th>\n",
       "      <th>DEP_DEL15</th>\n",
       "      <th>ARR_TIME</th>\n",
       "      <th>ARR_DEL15</th>\n",
       "      <th>CANCELLED</th>\n",
       "      <th>DIVERTED</th>\n",
       "      <th>DISTANCE</th>\n",
       "    </tr>\n",
       "  </thead>\n",
       "  <tbody>\n",
       "    <tr>\n",
       "      <th>count</th>\n",
       "      <td>1.191331e+06</td>\n",
       "      <td>1.191331e+06</td>\n",
       "      <td>1.191331e+06</td>\n",
       "      <td>1.191331e+06</td>\n",
       "      <td>1.191331e+06</td>\n",
       "      <td>1.191331e+06</td>\n",
       "      <td>1.191331e+06</td>\n",
       "      <td>1.191331e+06</td>\n",
       "      <td>1.168315e+06</td>\n",
       "      <td>1.168277e+06</td>\n",
       "      <td>1.167195e+06</td>\n",
       "      <td>1.165231e+06</td>\n",
       "      <td>1.191331e+06</td>\n",
       "      <td>1.191331e+06</td>\n",
       "      <td>1.191331e+06</td>\n",
       "    </tr>\n",
       "    <tr>\n",
       "      <th>mean</th>\n",
       "      <td>1.598775e+01</td>\n",
       "      <td>3.896858e+00</td>\n",
       "      <td>1.998878e+04</td>\n",
       "      <td>2.580946e+03</td>\n",
       "      <td>1.265852e+04</td>\n",
       "      <td>1.265856e+06</td>\n",
       "      <td>1.265831e+04</td>\n",
       "      <td>1.265835e+06</td>\n",
       "      <td>1.331729e+03</td>\n",
       "      <td>1.547672e-01</td>\n",
       "      <td>1.481052e+03</td>\n",
       "      <td>1.609183e-01</td>\n",
       "      <td>1.985510e-02</td>\n",
       "      <td>2.053166e-03</td>\n",
       "      <td>7.978853e+02</td>\n",
       "    </tr>\n",
       "    <tr>\n",
       "      <th>std</th>\n",
       "      <td>8.989395e+00</td>\n",
       "      <td>1.916886e+00</td>\n",
       "      <td>3.767608e+02</td>\n",
       "      <td>1.822637e+03</td>\n",
       "      <td>1.521957e+03</td>\n",
       "      <td>1.521955e+05</td>\n",
       "      <td>1.521858e+03</td>\n",
       "      <td>1.521856e+05</td>\n",
       "      <td>4.962741e+02</td>\n",
       "      <td>3.616828e-01</td>\n",
       "      <td>5.243978e+02</td>\n",
       "      <td>3.674557e-01</td>\n",
       "      <td>1.395023e-01</td>\n",
       "      <td>4.526535e-02</td>\n",
       "      <td>5.886157e+02</td>\n",
       "    </tr>\n",
       "    <tr>\n",
       "      <th>min</th>\n",
       "      <td>1.000000e+00</td>\n",
       "      <td>1.000000e+00</td>\n",
       "      <td>1.939300e+04</td>\n",
       "      <td>1.000000e+00</td>\n",
       "      <td>1.013500e+04</td>\n",
       "      <td>1.013505e+06</td>\n",
       "      <td>1.013500e+04</td>\n",
       "      <td>1.013505e+06</td>\n",
       "      <td>1.000000e+00</td>\n",
       "      <td>0.000000e+00</td>\n",
       "      <td>1.000000e+00</td>\n",
       "      <td>0.000000e+00</td>\n",
       "      <td>0.000000e+00</td>\n",
       "      <td>0.000000e+00</td>\n",
       "      <td>3.100000e+01</td>\n",
       "    </tr>\n",
       "    <tr>\n",
       "      <th>25%</th>\n",
       "      <td>8.000000e+00</td>\n",
       "      <td>2.000000e+00</td>\n",
       "      <td>1.979000e+04</td>\n",
       "      <td>1.027000e+03</td>\n",
       "      <td>1.129200e+04</td>\n",
       "      <td>1.129202e+06</td>\n",
       "      <td>1.129200e+04</td>\n",
       "      <td>1.129202e+06</td>\n",
       "      <td>9.200000e+02</td>\n",
       "      <td>0.000000e+00</td>\n",
       "      <td>1.101000e+03</td>\n",
       "      <td>0.000000e+00</td>\n",
       "      <td>0.000000e+00</td>\n",
       "      <td>0.000000e+00</td>\n",
       "      <td>3.660000e+02</td>\n",
       "    </tr>\n",
       "    <tr>\n",
       "      <th>50%</th>\n",
       "      <td>1.600000e+01</td>\n",
       "      <td>4.000000e+00</td>\n",
       "      <td>1.997700e+04</td>\n",
       "      <td>2.142000e+03</td>\n",
       "      <td>1.288900e+04</td>\n",
       "      <td>1.288903e+06</td>\n",
       "      <td>1.288900e+04</td>\n",
       "      <td>1.288903e+06</td>\n",
       "      <td>1.327000e+03</td>\n",
       "      <td>0.000000e+00</td>\n",
       "      <td>1.515000e+03</td>\n",
       "      <td>0.000000e+00</td>\n",
       "      <td>0.000000e+00</td>\n",
       "      <td>0.000000e+00</td>\n",
       "      <td>6.400000e+02</td>\n",
       "    </tr>\n",
       "    <tr>\n",
       "      <th>75%</th>\n",
       "      <td>2.400000e+01</td>\n",
       "      <td>5.000000e+00</td>\n",
       "      <td>2.036800e+04</td>\n",
       "      <td>4.009000e+03</td>\n",
       "      <td>1.402700e+04</td>\n",
       "      <td>1.402702e+06</td>\n",
       "      <td>1.402700e+04</td>\n",
       "      <td>1.402702e+06</td>\n",
       "      <td>1.739000e+03</td>\n",
       "      <td>0.000000e+00</td>\n",
       "      <td>1.919000e+03</td>\n",
       "      <td>0.000000e+00</td>\n",
       "      <td>0.000000e+00</td>\n",
       "      <td>0.000000e+00</td>\n",
       "      <td>1.037000e+03</td>\n",
       "    </tr>\n",
       "    <tr>\n",
       "      <th>max</th>\n",
       "      <td>3.100000e+01</td>\n",
       "      <td>7.000000e+00</td>\n",
       "      <td>2.045200e+04</td>\n",
       "      <td>7.439000e+03</td>\n",
       "      <td>1.686900e+04</td>\n",
       "      <td>1.686901e+06</td>\n",
       "      <td>1.686900e+04</td>\n",
       "      <td>1.686901e+06</td>\n",
       "      <td>2.400000e+03</td>\n",
       "      <td>1.000000e+00</td>\n",
       "      <td>2.400000e+03</td>\n",
       "      <td>1.000000e+00</td>\n",
       "      <td>1.000000e+00</td>\n",
       "      <td>1.000000e+00</td>\n",
       "      <td>5.095000e+03</td>\n",
       "    </tr>\n",
       "  </tbody>\n",
       "</table>\n",
       "</div>"
      ],
      "text/plain": [
       "       DAY_OF_MONTH   DAY_OF_WEEK  OP_CARRIER_AIRLINE_ID  OP_CARRIER_FL_NUM  \\\n",
       "count  1.191331e+06  1.191331e+06           1.191331e+06       1.191331e+06   \n",
       "mean   1.598775e+01  3.896858e+00           1.998878e+04       2.580946e+03   \n",
       "std    8.989395e+00  1.916886e+00           3.767608e+02       1.822637e+03   \n",
       "min    1.000000e+00  1.000000e+00           1.939300e+04       1.000000e+00   \n",
       "25%    8.000000e+00  2.000000e+00           1.979000e+04       1.027000e+03   \n",
       "50%    1.600000e+01  4.000000e+00           1.997700e+04       2.142000e+03   \n",
       "75%    2.400000e+01  5.000000e+00           2.036800e+04       4.009000e+03   \n",
       "max    3.100000e+01  7.000000e+00           2.045200e+04       7.439000e+03   \n",
       "\n",
       "       ORIGIN_AIRPORT_ID  ORIGIN_AIRPORT_SEQ_ID  DEST_AIRPORT_ID  \\\n",
       "count       1.191331e+06           1.191331e+06     1.191331e+06   \n",
       "mean        1.265852e+04           1.265856e+06     1.265831e+04   \n",
       "std         1.521957e+03           1.521955e+05     1.521858e+03   \n",
       "min         1.013500e+04           1.013505e+06     1.013500e+04   \n",
       "25%         1.129200e+04           1.129202e+06     1.129200e+04   \n",
       "50%         1.288900e+04           1.288903e+06     1.288900e+04   \n",
       "75%         1.402700e+04           1.402702e+06     1.402700e+04   \n",
       "max         1.686900e+04           1.686901e+06     1.686900e+04   \n",
       "\n",
       "       DEST_AIRPORT_SEQ_ID      DEP_TIME     DEP_DEL15      ARR_TIME  \\\n",
       "count         1.191331e+06  1.168315e+06  1.168277e+06  1.167195e+06   \n",
       "mean          1.265835e+06  1.331729e+03  1.547672e-01  1.481052e+03   \n",
       "std           1.521856e+05  4.962741e+02  3.616828e-01  5.243978e+02   \n",
       "min           1.013505e+06  1.000000e+00  0.000000e+00  1.000000e+00   \n",
       "25%           1.129202e+06  9.200000e+02  0.000000e+00  1.101000e+03   \n",
       "50%           1.288903e+06  1.327000e+03  0.000000e+00  1.515000e+03   \n",
       "75%           1.402702e+06  1.739000e+03  0.000000e+00  1.919000e+03   \n",
       "max           1.686901e+06  2.400000e+03  1.000000e+00  2.400000e+03   \n",
       "\n",
       "          ARR_DEL15     CANCELLED      DIVERTED      DISTANCE  \n",
       "count  1.165231e+06  1.191331e+06  1.191331e+06  1.191331e+06  \n",
       "mean   1.609183e-01  1.985510e-02  2.053166e-03  7.978853e+02  \n",
       "std    3.674557e-01  1.395023e-01  4.526535e-02  5.886157e+02  \n",
       "min    0.000000e+00  0.000000e+00  0.000000e+00  3.100000e+01  \n",
       "25%    0.000000e+00  0.000000e+00  0.000000e+00  3.660000e+02  \n",
       "50%    0.000000e+00  0.000000e+00  0.000000e+00  6.400000e+02  \n",
       "75%    0.000000e+00  0.000000e+00  0.000000e+00  1.037000e+03  \n",
       "max    1.000000e+00  1.000000e+00  1.000000e+00  5.095000e+03  "
      ]
     },
     "execution_count": 145,
     "metadata": {},
     "output_type": "execute_result"
    }
   ],
   "source": [
    "df.describe()"
   ]
  },
  {
   "cell_type": "code",
   "execution_count": 146,
   "metadata": {},
   "outputs": [
    {
     "data": {
      "text/plain": [
       "31"
      ]
     },
     "execution_count": 146,
     "metadata": {},
     "output_type": "execute_result"
    }
   ],
   "source": [
    "len(df[\"DAY_OF_MONTH\"].unique())"
   ]
  },
  {
   "cell_type": "code",
   "execution_count": 147,
   "metadata": {},
   "outputs": [
    {
     "data": {
      "text/plain": [
       "7"
      ]
     },
     "execution_count": 147,
     "metadata": {},
     "output_type": "execute_result"
    }
   ],
   "source": [
    "len(df[\"DAY_OF_WEEK\"].unique())"
   ]
  },
  {
   "cell_type": "code",
   "execution_count": 148,
   "metadata": {},
   "outputs": [
    {
     "data": {
      "text/plain": [
       "array([0., 1.])"
      ]
     },
     "execution_count": 148,
     "metadata": {},
     "output_type": "execute_result"
    }
   ],
   "source": [
    "(df[\"CANCELLED\"].unique())"
   ]
  },
  {
   "cell_type": "code",
   "execution_count": 149,
   "metadata": {},
   "outputs": [
    {
     "data": {
      "text/plain": [
       "DAY_OF_MONTH             0.000000\n",
       "DAY_OF_WEEK              0.000000\n",
       "OP_UNIQUE_CARRIER        0.000000\n",
       "OP_CARRIER_AIRLINE_ID    0.000000\n",
       "OP_CARRIER               0.000000\n",
       "TAIL_NUM                 0.554980\n",
       "OP_CARRIER_FL_NUM        0.000000\n",
       "ORIGIN_AIRPORT_ID        0.000000\n",
       "ORIGIN_AIRPORT_SEQ_ID    0.000000\n",
       "ORIGIN                   0.000000\n",
       "DEST_AIRPORT_ID          0.000000\n",
       "DEST_AIRPORT_SEQ_ID      0.000000\n",
       "DEST                     0.000000\n",
       "DEP_TIME                 3.941197\n",
       "DEP_DEL15                3.947704\n",
       "DEP_TIME_BLK             0.000000\n",
       "ARR_TIME                 4.132983\n",
       "ARR_DEL15                4.469293\n",
       "CANCELLED                0.000000\n",
       "DIVERTED                 0.000000\n",
       "DISTANCE                 0.000000\n",
       "dtype: float64"
      ]
     },
     "execution_count": 149,
     "metadata": {},
     "output_type": "execute_result"
    }
   ],
   "source": [
    "(df.isnull().sum()/len(train1))*100"
   ]
  },
  {
   "cell_type": "code",
   "execution_count": 150,
   "metadata": {},
   "outputs": [
    {
     "data": {
      "text/plain": [
       "DAY_OF_MONTH            -0.005327\n",
       "DAY_OF_WEEK              0.024707\n",
       "OP_CARRIER_AIRLINE_ID    0.070229\n",
       "OP_CARRIER_FL_NUM        0.033355\n",
       "ORIGIN_AIRPORT_ID        0.007959\n",
       "ORIGIN_AIRPORT_SEQ_ID    0.007959\n",
       "DEST_AIRPORT_ID          0.010728\n",
       "DEST_AIRPORT_SEQ_ID      0.010728\n",
       "DEP_TIME                 0.129090\n",
       "DEP_DEL15                0.716551\n",
       "ARR_TIME                 0.055586\n",
       "ARR_DEL15                1.000000\n",
       "CANCELLED                     NaN\n",
       "DIVERTED                      NaN\n",
       "DISTANCE                 0.006920\n",
       "Name: ARR_DEL15, dtype: float64"
      ]
     },
     "execution_count": 150,
     "metadata": {},
     "output_type": "execute_result"
    }
   ],
   "source": [
    "df.corr()[\"ARR_DEL15\"]"
   ]
  },
  {
   "cell_type": "code",
   "execution_count": 151,
   "metadata": {},
   "outputs": [
    {
     "name": "stdout",
     "output_type": "stream",
     "text": [
      "<class 'pandas.core.frame.DataFrame'>\n",
      "Int64Index: 1191331 entries, 0 to 607345\n",
      "Data columns (total 21 columns):\n",
      "DAY_OF_MONTH             1191331 non-null int64\n",
      "DAY_OF_WEEK              1191331 non-null int64\n",
      "OP_UNIQUE_CARRIER        1191331 non-null object\n",
      "OP_CARRIER_AIRLINE_ID    1191331 non-null int64\n",
      "OP_CARRIER               1191331 non-null object\n",
      "TAIL_NUM                 1188090 non-null object\n",
      "OP_CARRIER_FL_NUM        1191331 non-null int64\n",
      "ORIGIN_AIRPORT_ID        1191331 non-null int64\n",
      "ORIGIN_AIRPORT_SEQ_ID    1191331 non-null int64\n",
      "ORIGIN                   1191331 non-null object\n",
      "DEST_AIRPORT_ID          1191331 non-null int64\n",
      "DEST_AIRPORT_SEQ_ID      1191331 non-null int64\n",
      "DEST                     1191331 non-null object\n",
      "DEP_TIME                 1168315 non-null float64\n",
      "DEP_DEL15                1168277 non-null float64\n",
      "DEP_TIME_BLK             1191331 non-null object\n",
      "ARR_TIME                 1167195 non-null float64\n",
      "ARR_DEL15                1165231 non-null float64\n",
      "CANCELLED                1191331 non-null float64\n",
      "DIVERTED                 1191331 non-null float64\n",
      "DISTANCE                 1191331 non-null float64\n",
      "dtypes: float64(7), int64(8), object(6)\n",
      "memory usage: 200.0+ MB\n"
     ]
    }
   ],
   "source": [
    "df.info()"
   ]
  },
  {
   "cell_type": "code",
   "execution_count": 152,
   "metadata": {},
   "outputs": [
    {
     "data": {
      "text/plain": [
       "'DAY_OF_WEEK'"
      ]
     },
     "execution_count": 152,
     "metadata": {},
     "output_type": "execute_result"
    }
   ],
   "source": [
    "df.columns[1]"
   ]
  },
  {
   "cell_type": "code",
   "execution_count": 153,
   "metadata": {},
   "outputs": [],
   "source": [
    "df1 = pd.DataFrame()"
   ]
  },
  {
   "cell_type": "code",
   "execution_count": 154,
   "metadata": {},
   "outputs": [],
   "source": [
    "for x in df.columns:\n",
    "    if (df[x].dtypes == \"object\"):\n",
    "        df1 = pd.concat([df1,df[x]],axis=1)\n",
    "    else:\n",
    "        pass"
   ]
  },
  {
   "cell_type": "code",
   "execution_count": 155,
   "metadata": {},
   "outputs": [
    {
     "data": {
      "text/html": [
       "<div>\n",
       "<style scoped>\n",
       "    .dataframe tbody tr th:only-of-type {\n",
       "        vertical-align: middle;\n",
       "    }\n",
       "\n",
       "    .dataframe tbody tr th {\n",
       "        vertical-align: top;\n",
       "    }\n",
       "\n",
       "    .dataframe thead th {\n",
       "        text-align: right;\n",
       "    }\n",
       "</style>\n",
       "<table border=\"1\" class=\"dataframe\">\n",
       "  <thead>\n",
       "    <tr style=\"text-align: right;\">\n",
       "      <th></th>\n",
       "      <th>OP_UNIQUE_CARRIER</th>\n",
       "      <th>OP_CARRIER</th>\n",
       "      <th>TAIL_NUM</th>\n",
       "      <th>ORIGIN</th>\n",
       "      <th>DEST</th>\n",
       "      <th>DEP_TIME_BLK</th>\n",
       "    </tr>\n",
       "  </thead>\n",
       "  <tbody>\n",
       "    <tr>\n",
       "      <th>0</th>\n",
       "      <td>9E</td>\n",
       "      <td>9E</td>\n",
       "      <td>N8688C</td>\n",
       "      <td>GNV</td>\n",
       "      <td>ATL</td>\n",
       "      <td>0600-0659</td>\n",
       "    </tr>\n",
       "    <tr>\n",
       "      <th>1</th>\n",
       "      <td>9E</td>\n",
       "      <td>9E</td>\n",
       "      <td>N348PQ</td>\n",
       "      <td>MSP</td>\n",
       "      <td>CVG</td>\n",
       "      <td>1400-1459</td>\n",
       "    </tr>\n",
       "    <tr>\n",
       "      <th>2</th>\n",
       "      <td>9E</td>\n",
       "      <td>9E</td>\n",
       "      <td>N8896A</td>\n",
       "      <td>DTW</td>\n",
       "      <td>CVG</td>\n",
       "      <td>1200-1259</td>\n",
       "    </tr>\n",
       "    <tr>\n",
       "      <th>3</th>\n",
       "      <td>9E</td>\n",
       "      <td>9E</td>\n",
       "      <td>N8886A</td>\n",
       "      <td>TLH</td>\n",
       "      <td>ATL</td>\n",
       "      <td>1500-1559</td>\n",
       "    </tr>\n",
       "    <tr>\n",
       "      <th>4</th>\n",
       "      <td>9E</td>\n",
       "      <td>9E</td>\n",
       "      <td>N8974C</td>\n",
       "      <td>ATL</td>\n",
       "      <td>FSM</td>\n",
       "      <td>1900-1959</td>\n",
       "    </tr>\n",
       "  </tbody>\n",
       "</table>\n",
       "</div>"
      ],
      "text/plain": [
       "  OP_UNIQUE_CARRIER OP_CARRIER TAIL_NUM ORIGIN DEST DEP_TIME_BLK\n",
       "0                9E         9E   N8688C    GNV  ATL    0600-0659\n",
       "1                9E         9E   N348PQ    MSP  CVG    1400-1459\n",
       "2                9E         9E   N8896A    DTW  CVG    1200-1259\n",
       "3                9E         9E   N8886A    TLH  ATL    1500-1559\n",
       "4                9E         9E   N8974C    ATL  FSM    1900-1959"
      ]
     },
     "execution_count": 155,
     "metadata": {},
     "output_type": "execute_result"
    }
   ],
   "source": [
    "df1.head()"
   ]
  },
  {
   "cell_type": "code",
   "execution_count": 156,
   "metadata": {},
   "outputs": [],
   "source": [
    "df1 = df1.drop(columns=[\"TAIL_NUM\"], axis=1)"
   ]
  },
  {
   "cell_type": "code",
   "execution_count": 157,
   "metadata": {
    "scrolled": true
   },
   "outputs": [
    {
     "data": {
      "text/plain": [
       "array(['9E', 'AA', 'MQ', 'G4', 'OH', 'B6', 'YV', 'EV', 'F9', 'YX', 'HA',\n",
       "       'NK', 'OO', 'WN', 'AS', 'UA', 'DL'], dtype=object)"
      ]
     },
     "execution_count": 157,
     "metadata": {},
     "output_type": "execute_result"
    }
   ],
   "source": [
    "df[\"OP_CARRIER\"].unique()"
   ]
  },
  {
   "cell_type": "code",
   "execution_count": 158,
   "metadata": {},
   "outputs": [
    {
     "data": {
      "text/plain": [
       "19"
      ]
     },
     "execution_count": 158,
     "metadata": {},
     "output_type": "execute_result"
    }
   ],
   "source": [
    "len(df[\"DEP_TIME_BLK\"].unique())"
   ]
  },
  {
   "cell_type": "code",
   "execution_count": 159,
   "metadata": {},
   "outputs": [
    {
     "data": {
      "text/plain": [
       "5858"
      ]
     },
     "execution_count": 159,
     "metadata": {},
     "output_type": "execute_result"
    }
   ],
   "source": [
    "len(df[\"TAIL_NUM\"].unique())"
   ]
  },
  {
   "cell_type": "code",
   "execution_count": 160,
   "metadata": {},
   "outputs": [
    {
     "data": {
      "text/plain": [
       "353"
      ]
     },
     "execution_count": 160,
     "metadata": {},
     "output_type": "execute_result"
    }
   ],
   "source": [
    "len(df[\"ORIGIN\"].unique())"
   ]
  },
  {
   "cell_type": "code",
   "execution_count": 161,
   "metadata": {},
   "outputs": [
    {
     "data": {
      "text/plain": [
       "353"
      ]
     },
     "execution_count": 161,
     "metadata": {},
     "output_type": "execute_result"
    }
   ],
   "source": [
    "len(df[\"DEST\"].unique())"
   ]
  },
  {
   "cell_type": "code",
   "execution_count": 162,
   "metadata": {},
   "outputs": [],
   "source": [
    "from sklearn.preprocessing import LabelEncoder"
   ]
  },
  {
   "cell_type": "code",
   "execution_count": 163,
   "metadata": {},
   "outputs": [],
   "source": [
    "df1 = df1.apply(LabelEncoder().fit_transform)"
   ]
  },
  {
   "cell_type": "code",
   "execution_count": 164,
   "metadata": {},
   "outputs": [
    {
     "data": {
      "text/plain": [
       "array([ 0,  1,  9,  7, 11,  3, 15,  5,  6, 16,  8, 10, 12, 14,  2, 13,  4],\n",
       "      dtype=int64)"
      ]
     },
     "execution_count": 164,
     "metadata": {},
     "output_type": "execute_result"
    }
   ],
   "source": [
    "df1.OP_UNIQUE_CARRIER.unique()"
   ]
  },
  {
   "cell_type": "code",
   "execution_count": 165,
   "metadata": {},
   "outputs": [
    {
     "data": {
      "text/html": [
       "<div>\n",
       "<style scoped>\n",
       "    .dataframe tbody tr th:only-of-type {\n",
       "        vertical-align: middle;\n",
       "    }\n",
       "\n",
       "    .dataframe tbody tr th {\n",
       "        vertical-align: top;\n",
       "    }\n",
       "\n",
       "    .dataframe thead th {\n",
       "        text-align: right;\n",
       "    }\n",
       "</style>\n",
       "<table border=\"1\" class=\"dataframe\">\n",
       "  <thead>\n",
       "    <tr style=\"text-align: right;\">\n",
       "      <th></th>\n",
       "      <th>OP_UNIQUE_CARRIER</th>\n",
       "      <th>OP_CARRIER</th>\n",
       "      <th>ORIGIN</th>\n",
       "      <th>DEST</th>\n",
       "      <th>DEP_TIME_BLK</th>\n",
       "    </tr>\n",
       "  </thead>\n",
       "  <tbody>\n",
       "    <tr>\n",
       "      <th>0</th>\n",
       "      <td>0</td>\n",
       "      <td>0</td>\n",
       "      <td>130</td>\n",
       "      <td>19</td>\n",
       "      <td>1</td>\n",
       "    </tr>\n",
       "    <tr>\n",
       "      <th>1</th>\n",
       "      <td>0</td>\n",
       "      <td>0</td>\n",
       "      <td>227</td>\n",
       "      <td>82</td>\n",
       "      <td>9</td>\n",
       "    </tr>\n",
       "    <tr>\n",
       "      <th>2</th>\n",
       "      <td>0</td>\n",
       "      <td>0</td>\n",
       "      <td>97</td>\n",
       "      <td>82</td>\n",
       "      <td>7</td>\n",
       "    </tr>\n",
       "    <tr>\n",
       "      <th>3</th>\n",
       "      <td>0</td>\n",
       "      <td>0</td>\n",
       "      <td>331</td>\n",
       "      <td>19</td>\n",
       "      <td>10</td>\n",
       "    </tr>\n",
       "    <tr>\n",
       "      <th>4</th>\n",
       "      <td>0</td>\n",
       "      <td>0</td>\n",
       "      <td>19</td>\n",
       "      <td>122</td>\n",
       "      <td>14</td>\n",
       "    </tr>\n",
       "  </tbody>\n",
       "</table>\n",
       "</div>"
      ],
      "text/plain": [
       "   OP_UNIQUE_CARRIER  OP_CARRIER  ORIGIN  DEST  DEP_TIME_BLK\n",
       "0                  0           0     130    19             1\n",
       "1                  0           0     227    82             9\n",
       "2                  0           0      97    82             7\n",
       "3                  0           0     331    19            10\n",
       "4                  0           0      19   122            14"
      ]
     },
     "execution_count": 165,
     "metadata": {},
     "output_type": "execute_result"
    }
   ],
   "source": [
    "df1.head()"
   ]
  },
  {
   "cell_type": "code",
   "execution_count": 166,
   "metadata": {},
   "outputs": [],
   "source": [
    "df_final = df.copy()"
   ]
  },
  {
   "cell_type": "code",
   "execution_count": 167,
   "metadata": {},
   "outputs": [
    {
     "data": {
      "text/plain": [
       "DAY_OF_MONTH              -1.317660\n",
       "DAY_OF_WEEK                2.260058\n",
       "OP_CARRIER_AIRLINE_ID      3.588670\n",
       "OP_CARRIER_FL_NUM          2.404685\n",
       "ORIGIN_AIRPORT_ID          0.284674\n",
       "ORIGIN_AIRPORT_SEQ_ID      0.284685\n",
       "DEST_AIRPORT_ID            0.966369\n",
       "DEST_AIRPORT_SEQ_ID        0.966368\n",
       "DEP_TIME                  17.270742\n",
       "DEP_DEL15                100.000000\n",
       "ARR_TIME                   8.092397\n",
       "ARR_DEL15                 71.655133\n",
       "CANCELLED                  1.933904\n",
       "DIVERTED                   2.083659\n",
       "DISTANCE                   1.257862\n",
       "Name: DEP_DEL15, dtype: float64"
      ]
     },
     "execution_count": 167,
     "metadata": {},
     "output_type": "execute_result"
    }
   ],
   "source": [
    "df_final.corr()[\"DEP_DEL15\"]*100"
   ]
  },
  {
   "cell_type": "code",
   "execution_count": 168,
   "metadata": {},
   "outputs": [
    {
     "data": {
      "text/plain": [
       "Index(['OP_UNIQUE_CARRIER', 'OP_CARRIER', 'ORIGIN', 'DEST', 'DEP_TIME_BLK'], dtype='object')"
      ]
     },
     "execution_count": 168,
     "metadata": {},
     "output_type": "execute_result"
    }
   ],
   "source": [
    "df1.columns"
   ]
  },
  {
   "cell_type": "code",
   "execution_count": 169,
   "metadata": {},
   "outputs": [],
   "source": [
    "df_final = df_final.drop(['OP_UNIQUE_CARRIER', 'OP_CARRIER', 'ORIGIN', 'DEST', 'DEP_TIME_BLK'],axis=1)"
   ]
  },
  {
   "cell_type": "code",
   "execution_count": 170,
   "metadata": {},
   "outputs": [
    {
     "data": {
      "text/plain": [
       "16"
      ]
     },
     "execution_count": 170,
     "metadata": {},
     "output_type": "execute_result"
    }
   ],
   "source": [
    "len(df_final.columns)"
   ]
  },
  {
   "cell_type": "code",
   "execution_count": 171,
   "metadata": {},
   "outputs": [
    {
     "data": {
      "text/html": [
       "<div>\n",
       "<style scoped>\n",
       "    .dataframe tbody tr th:only-of-type {\n",
       "        vertical-align: middle;\n",
       "    }\n",
       "\n",
       "    .dataframe tbody tr th {\n",
       "        vertical-align: top;\n",
       "    }\n",
       "\n",
       "    .dataframe thead th {\n",
       "        text-align: right;\n",
       "    }\n",
       "</style>\n",
       "<table border=\"1\" class=\"dataframe\">\n",
       "  <thead>\n",
       "    <tr style=\"text-align: right;\">\n",
       "      <th></th>\n",
       "      <th>DAY_OF_MONTH</th>\n",
       "      <th>DAY_OF_WEEK</th>\n",
       "      <th>OP_CARRIER_AIRLINE_ID</th>\n",
       "      <th>TAIL_NUM</th>\n",
       "      <th>OP_CARRIER_FL_NUM</th>\n",
       "      <th>ORIGIN_AIRPORT_ID</th>\n",
       "      <th>ORIGIN_AIRPORT_SEQ_ID</th>\n",
       "      <th>DEST_AIRPORT_ID</th>\n",
       "      <th>DEST_AIRPORT_SEQ_ID</th>\n",
       "      <th>DEP_TIME</th>\n",
       "      <th>DEP_DEL15</th>\n",
       "      <th>ARR_TIME</th>\n",
       "      <th>ARR_DEL15</th>\n",
       "      <th>CANCELLED</th>\n",
       "      <th>DIVERTED</th>\n",
       "      <th>DISTANCE</th>\n",
       "    </tr>\n",
       "  </thead>\n",
       "  <tbody>\n",
       "    <tr>\n",
       "      <th>0</th>\n",
       "      <td>1</td>\n",
       "      <td>2</td>\n",
       "      <td>20363</td>\n",
       "      <td>N8688C</td>\n",
       "      <td>3280</td>\n",
       "      <td>11953</td>\n",
       "      <td>1195302</td>\n",
       "      <td>10397</td>\n",
       "      <td>1039707</td>\n",
       "      <td>601.0</td>\n",
       "      <td>0.0</td>\n",
       "      <td>722.0</td>\n",
       "      <td>0.0</td>\n",
       "      <td>0.0</td>\n",
       "      <td>0.0</td>\n",
       "      <td>300.0</td>\n",
       "    </tr>\n",
       "    <tr>\n",
       "      <th>1</th>\n",
       "      <td>1</td>\n",
       "      <td>2</td>\n",
       "      <td>20363</td>\n",
       "      <td>N348PQ</td>\n",
       "      <td>3281</td>\n",
       "      <td>13487</td>\n",
       "      <td>1348702</td>\n",
       "      <td>11193</td>\n",
       "      <td>1119302</td>\n",
       "      <td>1359.0</td>\n",
       "      <td>0.0</td>\n",
       "      <td>1633.0</td>\n",
       "      <td>0.0</td>\n",
       "      <td>0.0</td>\n",
       "      <td>0.0</td>\n",
       "      <td>596.0</td>\n",
       "    </tr>\n",
       "    <tr>\n",
       "      <th>2</th>\n",
       "      <td>1</td>\n",
       "      <td>2</td>\n",
       "      <td>20363</td>\n",
       "      <td>N8896A</td>\n",
       "      <td>3282</td>\n",
       "      <td>11433</td>\n",
       "      <td>1143302</td>\n",
       "      <td>11193</td>\n",
       "      <td>1119302</td>\n",
       "      <td>1215.0</td>\n",
       "      <td>0.0</td>\n",
       "      <td>1329.0</td>\n",
       "      <td>0.0</td>\n",
       "      <td>0.0</td>\n",
       "      <td>0.0</td>\n",
       "      <td>229.0</td>\n",
       "    </tr>\n",
       "    <tr>\n",
       "      <th>3</th>\n",
       "      <td>1</td>\n",
       "      <td>2</td>\n",
       "      <td>20363</td>\n",
       "      <td>N8886A</td>\n",
       "      <td>3283</td>\n",
       "      <td>15249</td>\n",
       "      <td>1524906</td>\n",
       "      <td>10397</td>\n",
       "      <td>1039707</td>\n",
       "      <td>1521.0</td>\n",
       "      <td>0.0</td>\n",
       "      <td>1625.0</td>\n",
       "      <td>0.0</td>\n",
       "      <td>0.0</td>\n",
       "      <td>0.0</td>\n",
       "      <td>223.0</td>\n",
       "    </tr>\n",
       "    <tr>\n",
       "      <th>4</th>\n",
       "      <td>1</td>\n",
       "      <td>2</td>\n",
       "      <td>20363</td>\n",
       "      <td>N8974C</td>\n",
       "      <td>3284</td>\n",
       "      <td>10397</td>\n",
       "      <td>1039707</td>\n",
       "      <td>11778</td>\n",
       "      <td>1177801</td>\n",
       "      <td>1847.0</td>\n",
       "      <td>0.0</td>\n",
       "      <td>1940.0</td>\n",
       "      <td>0.0</td>\n",
       "      <td>0.0</td>\n",
       "      <td>0.0</td>\n",
       "      <td>579.0</td>\n",
       "    </tr>\n",
       "  </tbody>\n",
       "</table>\n",
       "</div>"
      ],
      "text/plain": [
       "   DAY_OF_MONTH  DAY_OF_WEEK  OP_CARRIER_AIRLINE_ID TAIL_NUM  \\\n",
       "0             1            2                  20363   N8688C   \n",
       "1             1            2                  20363   N348PQ   \n",
       "2             1            2                  20363   N8896A   \n",
       "3             1            2                  20363   N8886A   \n",
       "4             1            2                  20363   N8974C   \n",
       "\n",
       "   OP_CARRIER_FL_NUM  ORIGIN_AIRPORT_ID  ORIGIN_AIRPORT_SEQ_ID  \\\n",
       "0               3280              11953                1195302   \n",
       "1               3281              13487                1348702   \n",
       "2               3282              11433                1143302   \n",
       "3               3283              15249                1524906   \n",
       "4               3284              10397                1039707   \n",
       "\n",
       "   DEST_AIRPORT_ID  DEST_AIRPORT_SEQ_ID  DEP_TIME  DEP_DEL15  ARR_TIME  \\\n",
       "0            10397              1039707     601.0        0.0     722.0   \n",
       "1            11193              1119302    1359.0        0.0    1633.0   \n",
       "2            11193              1119302    1215.0        0.0    1329.0   \n",
       "3            10397              1039707    1521.0        0.0    1625.0   \n",
       "4            11778              1177801    1847.0        0.0    1940.0   \n",
       "\n",
       "   ARR_DEL15  CANCELLED  DIVERTED  DISTANCE  \n",
       "0        0.0        0.0       0.0     300.0  \n",
       "1        0.0        0.0       0.0     596.0  \n",
       "2        0.0        0.0       0.0     229.0  \n",
       "3        0.0        0.0       0.0     223.0  \n",
       "4        0.0        0.0       0.0     579.0  "
      ]
     },
     "execution_count": 171,
     "metadata": {},
     "output_type": "execute_result"
    }
   ],
   "source": [
    "df_final.head()"
   ]
  },
  {
   "cell_type": "code",
   "execution_count": 172,
   "metadata": {},
   "outputs": [],
   "source": [
    "df_final = pd.concat([df_final,df1],axis = 1)"
   ]
  },
  {
   "cell_type": "code",
   "execution_count": 173,
   "metadata": {},
   "outputs": [
    {
     "data": {
      "text/plain": [
       "21"
      ]
     },
     "execution_count": 173,
     "metadata": {},
     "output_type": "execute_result"
    }
   ],
   "source": [
    "len(df_final.columns)"
   ]
  },
  {
   "cell_type": "code",
   "execution_count": 174,
   "metadata": {},
   "outputs": [
    {
     "data": {
      "text/html": [
       "<div>\n",
       "<style scoped>\n",
       "    .dataframe tbody tr th:only-of-type {\n",
       "        vertical-align: middle;\n",
       "    }\n",
       "\n",
       "    .dataframe tbody tr th {\n",
       "        vertical-align: top;\n",
       "    }\n",
       "\n",
       "    .dataframe thead th {\n",
       "        text-align: right;\n",
       "    }\n",
       "</style>\n",
       "<table border=\"1\" class=\"dataframe\">\n",
       "  <thead>\n",
       "    <tr style=\"text-align: right;\">\n",
       "      <th></th>\n",
       "      <th>DAY_OF_MONTH</th>\n",
       "      <th>DAY_OF_WEEK</th>\n",
       "      <th>OP_CARRIER_AIRLINE_ID</th>\n",
       "      <th>TAIL_NUM</th>\n",
       "      <th>OP_CARRIER_FL_NUM</th>\n",
       "      <th>ORIGIN_AIRPORT_ID</th>\n",
       "      <th>ORIGIN_AIRPORT_SEQ_ID</th>\n",
       "      <th>DEST_AIRPORT_ID</th>\n",
       "      <th>DEST_AIRPORT_SEQ_ID</th>\n",
       "      <th>DEP_TIME</th>\n",
       "      <th>...</th>\n",
       "      <th>ARR_TIME</th>\n",
       "      <th>ARR_DEL15</th>\n",
       "      <th>CANCELLED</th>\n",
       "      <th>DIVERTED</th>\n",
       "      <th>DISTANCE</th>\n",
       "      <th>OP_UNIQUE_CARRIER</th>\n",
       "      <th>OP_CARRIER</th>\n",
       "      <th>ORIGIN</th>\n",
       "      <th>DEST</th>\n",
       "      <th>DEP_TIME_BLK</th>\n",
       "    </tr>\n",
       "  </thead>\n",
       "  <tbody>\n",
       "    <tr>\n",
       "      <th>0</th>\n",
       "      <td>1</td>\n",
       "      <td>2</td>\n",
       "      <td>20363</td>\n",
       "      <td>N8688C</td>\n",
       "      <td>3280</td>\n",
       "      <td>11953</td>\n",
       "      <td>1195302</td>\n",
       "      <td>10397</td>\n",
       "      <td>1039707</td>\n",
       "      <td>601.0</td>\n",
       "      <td>...</td>\n",
       "      <td>722.0</td>\n",
       "      <td>0.0</td>\n",
       "      <td>0.0</td>\n",
       "      <td>0.0</td>\n",
       "      <td>300.0</td>\n",
       "      <td>0</td>\n",
       "      <td>0</td>\n",
       "      <td>130</td>\n",
       "      <td>19</td>\n",
       "      <td>1</td>\n",
       "    </tr>\n",
       "    <tr>\n",
       "      <th>1</th>\n",
       "      <td>1</td>\n",
       "      <td>2</td>\n",
       "      <td>20363</td>\n",
       "      <td>N348PQ</td>\n",
       "      <td>3281</td>\n",
       "      <td>13487</td>\n",
       "      <td>1348702</td>\n",
       "      <td>11193</td>\n",
       "      <td>1119302</td>\n",
       "      <td>1359.0</td>\n",
       "      <td>...</td>\n",
       "      <td>1633.0</td>\n",
       "      <td>0.0</td>\n",
       "      <td>0.0</td>\n",
       "      <td>0.0</td>\n",
       "      <td>596.0</td>\n",
       "      <td>0</td>\n",
       "      <td>0</td>\n",
       "      <td>227</td>\n",
       "      <td>82</td>\n",
       "      <td>9</td>\n",
       "    </tr>\n",
       "    <tr>\n",
       "      <th>2</th>\n",
       "      <td>1</td>\n",
       "      <td>2</td>\n",
       "      <td>20363</td>\n",
       "      <td>N8896A</td>\n",
       "      <td>3282</td>\n",
       "      <td>11433</td>\n",
       "      <td>1143302</td>\n",
       "      <td>11193</td>\n",
       "      <td>1119302</td>\n",
       "      <td>1215.0</td>\n",
       "      <td>...</td>\n",
       "      <td>1329.0</td>\n",
       "      <td>0.0</td>\n",
       "      <td>0.0</td>\n",
       "      <td>0.0</td>\n",
       "      <td>229.0</td>\n",
       "      <td>0</td>\n",
       "      <td>0</td>\n",
       "      <td>97</td>\n",
       "      <td>82</td>\n",
       "      <td>7</td>\n",
       "    </tr>\n",
       "    <tr>\n",
       "      <th>3</th>\n",
       "      <td>1</td>\n",
       "      <td>2</td>\n",
       "      <td>20363</td>\n",
       "      <td>N8886A</td>\n",
       "      <td>3283</td>\n",
       "      <td>15249</td>\n",
       "      <td>1524906</td>\n",
       "      <td>10397</td>\n",
       "      <td>1039707</td>\n",
       "      <td>1521.0</td>\n",
       "      <td>...</td>\n",
       "      <td>1625.0</td>\n",
       "      <td>0.0</td>\n",
       "      <td>0.0</td>\n",
       "      <td>0.0</td>\n",
       "      <td>223.0</td>\n",
       "      <td>0</td>\n",
       "      <td>0</td>\n",
       "      <td>331</td>\n",
       "      <td>19</td>\n",
       "      <td>10</td>\n",
       "    </tr>\n",
       "    <tr>\n",
       "      <th>4</th>\n",
       "      <td>1</td>\n",
       "      <td>2</td>\n",
       "      <td>20363</td>\n",
       "      <td>N8974C</td>\n",
       "      <td>3284</td>\n",
       "      <td>10397</td>\n",
       "      <td>1039707</td>\n",
       "      <td>11778</td>\n",
       "      <td>1177801</td>\n",
       "      <td>1847.0</td>\n",
       "      <td>...</td>\n",
       "      <td>1940.0</td>\n",
       "      <td>0.0</td>\n",
       "      <td>0.0</td>\n",
       "      <td>0.0</td>\n",
       "      <td>579.0</td>\n",
       "      <td>0</td>\n",
       "      <td>0</td>\n",
       "      <td>19</td>\n",
       "      <td>122</td>\n",
       "      <td>14</td>\n",
       "    </tr>\n",
       "  </tbody>\n",
       "</table>\n",
       "<p>5 rows × 21 columns</p>\n",
       "</div>"
      ],
      "text/plain": [
       "   DAY_OF_MONTH  DAY_OF_WEEK  OP_CARRIER_AIRLINE_ID TAIL_NUM  \\\n",
       "0             1            2                  20363   N8688C   \n",
       "1             1            2                  20363   N348PQ   \n",
       "2             1            2                  20363   N8896A   \n",
       "3             1            2                  20363   N8886A   \n",
       "4             1            2                  20363   N8974C   \n",
       "\n",
       "   OP_CARRIER_FL_NUM  ORIGIN_AIRPORT_ID  ORIGIN_AIRPORT_SEQ_ID  \\\n",
       "0               3280              11953                1195302   \n",
       "1               3281              13487                1348702   \n",
       "2               3282              11433                1143302   \n",
       "3               3283              15249                1524906   \n",
       "4               3284              10397                1039707   \n",
       "\n",
       "   DEST_AIRPORT_ID  DEST_AIRPORT_SEQ_ID  DEP_TIME      ...       ARR_TIME  \\\n",
       "0            10397              1039707     601.0      ...          722.0   \n",
       "1            11193              1119302    1359.0      ...         1633.0   \n",
       "2            11193              1119302    1215.0      ...         1329.0   \n",
       "3            10397              1039707    1521.0      ...         1625.0   \n",
       "4            11778              1177801    1847.0      ...         1940.0   \n",
       "\n",
       "   ARR_DEL15  CANCELLED  DIVERTED  DISTANCE  OP_UNIQUE_CARRIER  OP_CARRIER  \\\n",
       "0        0.0        0.0       0.0     300.0                  0           0   \n",
       "1        0.0        0.0       0.0     596.0                  0           0   \n",
       "2        0.0        0.0       0.0     229.0                  0           0   \n",
       "3        0.0        0.0       0.0     223.0                  0           0   \n",
       "4        0.0        0.0       0.0     579.0                  0           0   \n",
       "\n",
       "   ORIGIN  DEST  DEP_TIME_BLK  \n",
       "0     130    19             1  \n",
       "1     227    82             9  \n",
       "2      97    82             7  \n",
       "3     331    19            10  \n",
       "4      19   122            14  \n",
       "\n",
       "[5 rows x 21 columns]"
      ]
     },
     "execution_count": 174,
     "metadata": {},
     "output_type": "execute_result"
    }
   ],
   "source": [
    "df_final.head()"
   ]
  },
  {
   "cell_type": "code",
   "execution_count": 175,
   "metadata": {},
   "outputs": [
    {
     "data": {
      "text/plain": [
       "Index(['DAY_OF_MONTH', 'DAY_OF_WEEK', 'OP_CARRIER_AIRLINE_ID', 'TAIL_NUM',\n",
       "       'OP_CARRIER_FL_NUM', 'ORIGIN_AIRPORT_ID', 'ORIGIN_AIRPORT_SEQ_ID',\n",
       "       'DEST_AIRPORT_ID', 'DEST_AIRPORT_SEQ_ID', 'DEP_TIME', 'DEP_DEL15',\n",
       "       'ARR_TIME', 'ARR_DEL15', 'CANCELLED', 'DIVERTED', 'DISTANCE',\n",
       "       'OP_UNIQUE_CARRIER', 'OP_CARRIER', 'ORIGIN', 'DEST', 'DEP_TIME_BLK'],\n",
       "      dtype='object')"
      ]
     },
     "execution_count": 175,
     "metadata": {},
     "output_type": "execute_result"
    }
   ],
   "source": [
    "df_final.columns"
   ]
  },
  {
   "cell_type": "code",
   "execution_count": null,
   "metadata": {},
   "outputs": [],
   "source": []
  },
  {
   "cell_type": "code",
   "execution_count": 176,
   "metadata": {},
   "outputs": [],
   "source": [
    "df_final = df_final.drop([\"DAY_OF_MONTH\",\"OP_CARRIER_FL_NUM\",\"ORIGIN_AIRPORT_ID\",\"ORIGIN_AIRPORT_SEQ_ID\",\"DEST_AIRPORT_ID\",\"DEST_AIRPORT_SEQ_ID\",\"DIVERTED\",\"DISTANCE\"],axis=1)"
   ]
  },
  {
   "cell_type": "code",
   "execution_count": 177,
   "metadata": {},
   "outputs": [
    {
     "name": "stdout",
     "output_type": "stream",
     "text": [
      "<class 'pandas.core.frame.DataFrame'>\n",
      "Int64Index: 1191331 entries, 0 to 607345\n",
      "Data columns (total 13 columns):\n",
      "DAY_OF_WEEK              1191331 non-null int64\n",
      "OP_CARRIER_AIRLINE_ID    1191331 non-null int64\n",
      "TAIL_NUM                 1188090 non-null object\n",
      "DEP_TIME                 1168315 non-null float64\n",
      "DEP_DEL15                1168277 non-null float64\n",
      "ARR_TIME                 1167195 non-null float64\n",
      "ARR_DEL15                1165231 non-null float64\n",
      "CANCELLED                1191331 non-null float64\n",
      "OP_UNIQUE_CARRIER        1191331 non-null int32\n",
      "OP_CARRIER               1191331 non-null int32\n",
      "ORIGIN                   1191331 non-null int32\n",
      "DEST                     1191331 non-null int32\n",
      "DEP_TIME_BLK             1191331 non-null int32\n",
      "dtypes: float64(5), int32(5), int64(2), object(1)\n",
      "memory usage: 104.5+ MB\n"
     ]
    }
   ],
   "source": [
    "df_final.info()"
   ]
  },
  {
   "cell_type": "code",
   "execution_count": 179,
   "metadata": {},
   "outputs": [
    {
     "data": {
      "text/plain": [
       "DAY_OF_WEEK              0.022601\n",
       "OP_CARRIER_AIRLINE_ID    0.035887\n",
       "DEP_TIME                 0.172707\n",
       "DEP_DEL15                1.000000\n",
       "ARR_TIME                 0.080924\n",
       "ARR_DEL15                0.716551\n",
       "CANCELLED                0.019339\n",
       "OP_UNIQUE_CARRIER        0.006995\n",
       "OP_CARRIER               0.006995\n",
       "ORIGIN                   0.003278\n",
       "DEST                     0.009833\n",
       "DEP_TIME_BLK             0.117770\n",
       "Name: DEP_DEL15, dtype: float64"
      ]
     },
     "execution_count": 179,
     "metadata": {},
     "output_type": "execute_result"
    }
   ],
   "source": [
    "df_final.corr()[\"DEP_DEL15\"]"
   ]
  },
  {
   "cell_type": "code",
   "execution_count": 180,
   "metadata": {},
   "outputs": [
    {
     "data": {
      "text/plain": [
       "12"
      ]
     },
     "execution_count": 180,
     "metadata": {},
     "output_type": "execute_result"
    }
   ],
   "source": [
    "len(df_final.corr()[\"DEP_DEL15\"])"
   ]
  },
  {
   "cell_type": "code",
   "execution_count": 181,
   "metadata": {},
   "outputs": [
    {
     "data": {
      "text/plain": [
       "0         N8688C\n",
       "1         N348PQ\n",
       "2         N8896A\n",
       "3         N8886A\n",
       "4         N8974C\n",
       "5         N927EV\n",
       "6         N915XJ\n",
       "7         N295PQ\n",
       "8         N337PQ\n",
       "9         N311PQ\n",
       "10        N311PQ\n",
       "11        N931XJ\n",
       "12        N800AY\n",
       "13        N927EV\n",
       "14        N600LR\n",
       "15        N840AY\n",
       "16        N232PQ\n",
       "17        N8970D\n",
       "18        N8970D\n",
       "19        N304PQ\n",
       "20        N931XJ\n",
       "21        N902XJ\n",
       "22        N349PQ\n",
       "23        N8928A\n",
       "24        N8928A\n",
       "25        N371CA\n",
       "26        N371CA\n",
       "27        N8836A\n",
       "28        N918XJ\n",
       "29        N8896A\n",
       "           ...  \n",
       "607316    N8908D\n",
       "607317    N308PQ\n",
       "607318    N308PQ\n",
       "607319    N8918B\n",
       "607320    N8918B\n",
       "607321    N834AY\n",
       "607322    N8877A\n",
       "607323    N8894A\n",
       "607324    N8894A\n",
       "607325    N678CA\n",
       "607326    N678CA\n",
       "607327    N934XJ\n",
       "607328    N934XJ\n",
       "607329    N835AY\n",
       "607330    N147PQ\n",
       "607331    N147PQ\n",
       "607332    N605LR\n",
       "607333    N605LR\n",
       "607334    N302PQ\n",
       "607335    N929XJ\n",
       "607336    N686BR\n",
       "607337    N306PQ\n",
       "607338    N8936A\n",
       "607339    N329PQ\n",
       "607340    N909XJ\n",
       "607341    N331CA\n",
       "607342    N295PQ\n",
       "607343    N294PQ\n",
       "607344    N228PQ\n",
       "607345    N228PQ\n",
       "Name: TAIL_NUM, Length: 1191331, dtype: object"
      ]
     },
     "execution_count": 181,
     "metadata": {},
     "output_type": "execute_result"
    }
   ],
   "source": [
    "df_final.pop(\"TAIL_NUM\")"
   ]
  },
  {
   "cell_type": "code",
   "execution_count": 182,
   "metadata": {},
   "outputs": [
    {
     "name": "stdout",
     "output_type": "stream",
     "text": [
      "<class 'pandas.core.frame.DataFrame'>\n",
      "Int64Index: 1191331 entries, 0 to 607345\n",
      "Data columns (total 12 columns):\n",
      "DAY_OF_WEEK              1191331 non-null int64\n",
      "OP_CARRIER_AIRLINE_ID    1191331 non-null int64\n",
      "DEP_TIME                 1168315 non-null float64\n",
      "DEP_DEL15                1168277 non-null float64\n",
      "ARR_TIME                 1167195 non-null float64\n",
      "ARR_DEL15                1165231 non-null float64\n",
      "CANCELLED                1191331 non-null float64\n",
      "OP_UNIQUE_CARRIER        1191331 non-null int32\n",
      "OP_CARRIER               1191331 non-null int32\n",
      "ORIGIN                   1191331 non-null int32\n",
      "DEST                     1191331 non-null int32\n",
      "DEP_TIME_BLK             1191331 non-null int32\n",
      "dtypes: float64(5), int32(5), int64(2)\n",
      "memory usage: 95.4 MB\n"
     ]
    }
   ],
   "source": [
    "df_final.info()"
   ]
  },
  {
   "cell_type": "code",
   "execution_count": 183,
   "metadata": {},
   "outputs": [
    {
     "data": {
      "text/plain": [
       "DAY_OF_WEEK              0.000000\n",
       "OP_CARRIER_AIRLINE_ID    0.000000\n",
       "DEP_TIME                 1.931957\n",
       "DEP_DEL15                1.935146\n",
       "ARR_TIME                 2.025969\n",
       "ARR_DEL15                2.190827\n",
       "CANCELLED                0.000000\n",
       "OP_UNIQUE_CARRIER        0.000000\n",
       "OP_CARRIER               0.000000\n",
       "ORIGIN                   0.000000\n",
       "DEST                     0.000000\n",
       "DEP_TIME_BLK             0.000000\n",
       "dtype: float64"
      ]
     },
     "execution_count": 183,
     "metadata": {},
     "output_type": "execute_result"
    }
   ],
   "source": [
    "df_final.isnull().sum()/len(df_final)*100"
   ]
  },
  {
   "cell_type": "code",
   "execution_count": 184,
   "metadata": {},
   "outputs": [
    {
     "name": "stdout",
     "output_type": "stream",
     "text": [
      "<class 'pandas.core.frame.DataFrame'>\n",
      "Int64Index: 1191331 entries, 0 to 607345\n",
      "Data columns (total 12 columns):\n",
      "DAY_OF_WEEK              1191331 non-null int64\n",
      "OP_CARRIER_AIRLINE_ID    1191331 non-null int64\n",
      "DEP_TIME                 1168315 non-null float64\n",
      "DEP_DEL15                1168277 non-null float64\n",
      "ARR_TIME                 1167195 non-null float64\n",
      "ARR_DEL15                1165231 non-null float64\n",
      "CANCELLED                1191331 non-null float64\n",
      "OP_UNIQUE_CARRIER        1191331 non-null int32\n",
      "OP_CARRIER               1191331 non-null int32\n",
      "ORIGIN                   1191331 non-null int32\n",
      "DEST                     1191331 non-null int32\n",
      "DEP_TIME_BLK             1191331 non-null int32\n",
      "dtypes: float64(5), int32(5), int64(2)\n",
      "memory usage: 95.4 MB\n"
     ]
    }
   ],
   "source": [
    "df_final.info()"
   ]
  },
  {
   "cell_type": "code",
   "execution_count": 185,
   "metadata": {},
   "outputs": [],
   "source": [
    "df_final[\"DEP_TIME\"] = df_final[\"DEP_TIME\"].fillna(df_final[\"DEP_TIME\"].mean())"
   ]
  },
  {
   "cell_type": "code",
   "execution_count": 186,
   "metadata": {},
   "outputs": [],
   "source": [
    "df_final[\"ARR_TIME\"] = df_final[\"ARR_TIME\"].fillna(df_final[\"ARR_TIME\"].mean())\n",
    "df_final[\"ARR_DEL15\"] = df_final[\"ARR_DEL15\"].fillna(df_final[\"ARR_DEL15\"].mode()[0])\n",
    "df_final[\"DEP_DEL15\"] = df_final[\"DEP_DEL15\"].fillna(df_final[\"DEP_DEL15\"].mode()[0])\n"
   ]
  },
  {
   "cell_type": "code",
   "execution_count": 187,
   "metadata": {},
   "outputs": [
    {
     "name": "stdout",
     "output_type": "stream",
     "text": [
      "<class 'pandas.core.frame.DataFrame'>\n",
      "Int64Index: 1191331 entries, 0 to 607345\n",
      "Data columns (total 12 columns):\n",
      "DAY_OF_WEEK              1191331 non-null int64\n",
      "OP_CARRIER_AIRLINE_ID    1191331 non-null int64\n",
      "DEP_TIME                 1191331 non-null float64\n",
      "DEP_DEL15                1191331 non-null float64\n",
      "ARR_TIME                 1191331 non-null float64\n",
      "ARR_DEL15                1191331 non-null float64\n",
      "CANCELLED                1191331 non-null float64\n",
      "OP_UNIQUE_CARRIER        1191331 non-null int32\n",
      "OP_CARRIER               1191331 non-null int32\n",
      "ORIGIN                   1191331 non-null int32\n",
      "DEST                     1191331 non-null int32\n",
      "DEP_TIME_BLK             1191331 non-null int32\n",
      "dtypes: float64(5), int32(5), int64(2)\n",
      "memory usage: 95.4 MB\n"
     ]
    }
   ],
   "source": [
    "df_final.info()"
   ]
  },
  {
   "cell_type": "code",
   "execution_count": 188,
   "metadata": {},
   "outputs": [
    {
     "data": {
      "text/plain": [
       "DAY_OF_WEEK                2.181326\n",
       "OP_CARRIER_AIRLINE_ID      3.440699\n",
       "DEP_TIME                  17.239858\n",
       "DEP_DEL15                100.000000\n",
       "ARR_TIME                   8.068956\n",
       "ARR_DEL15                 71.490635\n",
       "CANCELLED                 -5.554270\n",
       "OP_UNIQUE_CARRIER          0.463672\n",
       "OP_CARRIER                 0.463672\n",
       "ORIGIN                     0.261123\n",
       "DEST                       0.915856\n",
       "DEP_TIME_BLK              11.587514\n",
       "Name: DEP_DEL15, dtype: float64"
      ]
     },
     "execution_count": 188,
     "metadata": {},
     "output_type": "execute_result"
    }
   ],
   "source": [
    "df_final.corr()[\"DEP_DEL15\"]*100"
   ]
  },
  {
   "cell_type": "code",
   "execution_count": 189,
   "metadata": {},
   "outputs": [
    {
     "data": {
      "text/html": [
       "<div>\n",
       "<style scoped>\n",
       "    .dataframe tbody tr th:only-of-type {\n",
       "        vertical-align: middle;\n",
       "    }\n",
       "\n",
       "    .dataframe tbody tr th {\n",
       "        vertical-align: top;\n",
       "    }\n",
       "\n",
       "    .dataframe thead th {\n",
       "        text-align: right;\n",
       "    }\n",
       "</style>\n",
       "<table border=\"1\" class=\"dataframe\">\n",
       "  <thead>\n",
       "    <tr style=\"text-align: right;\">\n",
       "      <th></th>\n",
       "      <th>DAY_OF_WEEK</th>\n",
       "      <th>OP_CARRIER_AIRLINE_ID</th>\n",
       "      <th>DEP_TIME</th>\n",
       "      <th>DEP_DEL15</th>\n",
       "      <th>ARR_TIME</th>\n",
       "      <th>ARR_DEL15</th>\n",
       "      <th>CANCELLED</th>\n",
       "      <th>OP_UNIQUE_CARRIER</th>\n",
       "      <th>OP_CARRIER</th>\n",
       "      <th>ORIGIN</th>\n",
       "      <th>DEST</th>\n",
       "      <th>DEP_TIME_BLK</th>\n",
       "    </tr>\n",
       "  </thead>\n",
       "  <tbody>\n",
       "    <tr>\n",
       "      <th>0</th>\n",
       "      <td>2</td>\n",
       "      <td>20363</td>\n",
       "      <td>601.0</td>\n",
       "      <td>0.0</td>\n",
       "      <td>722.0</td>\n",
       "      <td>0.0</td>\n",
       "      <td>0.0</td>\n",
       "      <td>0</td>\n",
       "      <td>0</td>\n",
       "      <td>130</td>\n",
       "      <td>19</td>\n",
       "      <td>1</td>\n",
       "    </tr>\n",
       "    <tr>\n",
       "      <th>1</th>\n",
       "      <td>2</td>\n",
       "      <td>20363</td>\n",
       "      <td>1359.0</td>\n",
       "      <td>0.0</td>\n",
       "      <td>1633.0</td>\n",
       "      <td>0.0</td>\n",
       "      <td>0.0</td>\n",
       "      <td>0</td>\n",
       "      <td>0</td>\n",
       "      <td>227</td>\n",
       "      <td>82</td>\n",
       "      <td>9</td>\n",
       "    </tr>\n",
       "    <tr>\n",
       "      <th>2</th>\n",
       "      <td>2</td>\n",
       "      <td>20363</td>\n",
       "      <td>1215.0</td>\n",
       "      <td>0.0</td>\n",
       "      <td>1329.0</td>\n",
       "      <td>0.0</td>\n",
       "      <td>0.0</td>\n",
       "      <td>0</td>\n",
       "      <td>0</td>\n",
       "      <td>97</td>\n",
       "      <td>82</td>\n",
       "      <td>7</td>\n",
       "    </tr>\n",
       "    <tr>\n",
       "      <th>3</th>\n",
       "      <td>2</td>\n",
       "      <td>20363</td>\n",
       "      <td>1521.0</td>\n",
       "      <td>0.0</td>\n",
       "      <td>1625.0</td>\n",
       "      <td>0.0</td>\n",
       "      <td>0.0</td>\n",
       "      <td>0</td>\n",
       "      <td>0</td>\n",
       "      <td>331</td>\n",
       "      <td>19</td>\n",
       "      <td>10</td>\n",
       "    </tr>\n",
       "    <tr>\n",
       "      <th>4</th>\n",
       "      <td>2</td>\n",
       "      <td>20363</td>\n",
       "      <td>1847.0</td>\n",
       "      <td>0.0</td>\n",
       "      <td>1940.0</td>\n",
       "      <td>0.0</td>\n",
       "      <td>0.0</td>\n",
       "      <td>0</td>\n",
       "      <td>0</td>\n",
       "      <td>19</td>\n",
       "      <td>122</td>\n",
       "      <td>14</td>\n",
       "    </tr>\n",
       "    <tr>\n",
       "      <th>5</th>\n",
       "      <td>2</td>\n",
       "      <td>20363</td>\n",
       "      <td>853.0</td>\n",
       "      <td>0.0</td>\n",
       "      <td>953.0</td>\n",
       "      <td>0.0</td>\n",
       "      <td>0.0</td>\n",
       "      <td>0</td>\n",
       "      <td>0</td>\n",
       "      <td>87</td>\n",
       "      <td>227</td>\n",
       "      <td>4</td>\n",
       "    </tr>\n",
       "    <tr>\n",
       "      <th>6</th>\n",
       "      <td>2</td>\n",
       "      <td>20363</td>\n",
       "      <td>1553.0</td>\n",
       "      <td>0.0</td>\n",
       "      <td>1832.0</td>\n",
       "      <td>0.0</td>\n",
       "      <td>0.0</td>\n",
       "      <td>0</td>\n",
       "      <td>0</td>\n",
       "      <td>170</td>\n",
       "      <td>19</td>\n",
       "      <td>10</td>\n",
       "    </tr>\n",
       "    <tr>\n",
       "      <th>7</th>\n",
       "      <td>2</td>\n",
       "      <td>20363</td>\n",
       "      <td>1551.0</td>\n",
       "      <td>0.0</td>\n",
       "      <td>1824.0</td>\n",
       "      <td>0.0</td>\n",
       "      <td>0.0</td>\n",
       "      <td>0</td>\n",
       "      <td>0</td>\n",
       "      <td>191</td>\n",
       "      <td>82</td>\n",
       "      <td>10</td>\n",
       "    </tr>\n",
       "    <tr>\n",
       "      <th>8</th>\n",
       "      <td>2</td>\n",
       "      <td>20363</td>\n",
       "      <td>1037.0</td>\n",
       "      <td>0.0</td>\n",
       "      <td>1239.0</td>\n",
       "      <td>0.0</td>\n",
       "      <td>0.0</td>\n",
       "      <td>0</td>\n",
       "      <td>0</td>\n",
       "      <td>171</td>\n",
       "      <td>191</td>\n",
       "      <td>5</td>\n",
       "    </tr>\n",
       "    <tr>\n",
       "      <th>9</th>\n",
       "      <td>2</td>\n",
       "      <td>20363</td>\n",
       "      <td>1245.0</td>\n",
       "      <td>0.0</td>\n",
       "      <td>1318.0</td>\n",
       "      <td>0.0</td>\n",
       "      <td>0.0</td>\n",
       "      <td>0</td>\n",
       "      <td>0</td>\n",
       "      <td>19</td>\n",
       "      <td>40</td>\n",
       "      <td>7</td>\n",
       "    </tr>\n",
       "  </tbody>\n",
       "</table>\n",
       "</div>"
      ],
      "text/plain": [
       "   DAY_OF_WEEK  OP_CARRIER_AIRLINE_ID  DEP_TIME  DEP_DEL15  ARR_TIME  \\\n",
       "0            2                  20363     601.0        0.0     722.0   \n",
       "1            2                  20363    1359.0        0.0    1633.0   \n",
       "2            2                  20363    1215.0        0.0    1329.0   \n",
       "3            2                  20363    1521.0        0.0    1625.0   \n",
       "4            2                  20363    1847.0        0.0    1940.0   \n",
       "5            2                  20363     853.0        0.0     953.0   \n",
       "6            2                  20363    1553.0        0.0    1832.0   \n",
       "7            2                  20363    1551.0        0.0    1824.0   \n",
       "8            2                  20363    1037.0        0.0    1239.0   \n",
       "9            2                  20363    1245.0        0.0    1318.0   \n",
       "\n",
       "   ARR_DEL15  CANCELLED  OP_UNIQUE_CARRIER  OP_CARRIER  ORIGIN  DEST  \\\n",
       "0        0.0        0.0                  0           0     130    19   \n",
       "1        0.0        0.0                  0           0     227    82   \n",
       "2        0.0        0.0                  0           0      97    82   \n",
       "3        0.0        0.0                  0           0     331    19   \n",
       "4        0.0        0.0                  0           0      19   122   \n",
       "5        0.0        0.0                  0           0      87   227   \n",
       "6        0.0        0.0                  0           0     170    19   \n",
       "7        0.0        0.0                  0           0     191    82   \n",
       "8        0.0        0.0                  0           0     171   191   \n",
       "9        0.0        0.0                  0           0      19    40   \n",
       "\n",
       "   DEP_TIME_BLK  \n",
       "0             1  \n",
       "1             9  \n",
       "2             7  \n",
       "3            10  \n",
       "4            14  \n",
       "5             4  \n",
       "6            10  \n",
       "7            10  \n",
       "8             5  \n",
       "9             7  "
      ]
     },
     "execution_count": 189,
     "metadata": {},
     "output_type": "execute_result"
    }
   ],
   "source": [
    "df_final.head(10)"
   ]
  },
  {
   "cell_type": "code",
   "execution_count": 191,
   "metadata": {},
   "outputs": [
    {
     "data": {
      "text/plain": [
       "DAY_OF_WEEK                2.181326\n",
       "OP_CARRIER_AIRLINE_ID      3.440699\n",
       "DEP_TIME                  17.239858\n",
       "DEP_DEL15                100.000000\n",
       "ARR_TIME                   8.068956\n",
       "ARR_DEL15                 71.490635\n",
       "CANCELLED                 -5.554270\n",
       "OP_UNIQUE_CARRIER          0.463672\n",
       "OP_CARRIER                 0.463672\n",
       "ORIGIN                     0.261123\n",
       "DEST                       0.915856\n",
       "DEP_TIME_BLK              11.587514\n",
       "Name: DEP_DEL15, dtype: float64"
      ]
     },
     "execution_count": 191,
     "metadata": {},
     "output_type": "execute_result"
    }
   ],
   "source": [
    "df_final.corr()[\"DEP_DEL15\"]*100"
   ]
  },
  {
   "cell_type": "code",
   "execution_count": 192,
   "metadata": {},
   "outputs": [],
   "source": [
    "df_final = df_final.drop([\"OP_UNIQUE_CARRIER\",\"OP_CARRIER\",\"ORIGIN\",\"DEST\"],axis=1)"
   ]
  },
  {
   "cell_type": "code",
   "execution_count": 193,
   "metadata": {},
   "outputs": [
    {
     "data": {
      "text/plain": [
       "DAY_OF_WEEK                2.181326\n",
       "OP_CARRIER_AIRLINE_ID      3.440699\n",
       "DEP_TIME                  17.239858\n",
       "DEP_DEL15                100.000000\n",
       "ARR_TIME                   8.068956\n",
       "ARR_DEL15                 71.490635\n",
       "CANCELLED                 -5.554270\n",
       "DEP_TIME_BLK              11.587514\n",
       "Name: DEP_DEL15, dtype: float64"
      ]
     },
     "execution_count": 193,
     "metadata": {},
     "output_type": "execute_result"
    }
   ],
   "source": [
    "df_final.corr()[\"DEP_DEL15\"]*100"
   ]
  },
  {
   "cell_type": "code",
   "execution_count": 194,
   "metadata": {},
   "outputs": [],
   "source": [
    "from sklearn.model_selection import train_test_split"
   ]
  },
  {
   "cell_type": "code",
   "execution_count": 195,
   "metadata": {},
   "outputs": [],
   "source": [
    "y = df_final[\"DEP_DEL15\"]"
   ]
  },
  {
   "cell_type": "code",
   "execution_count": 196,
   "metadata": {},
   "outputs": [
    {
     "data": {
      "text/plain": [
       "Index(['DAY_OF_WEEK', 'OP_CARRIER_AIRLINE_ID', 'DEP_TIME', 'DEP_DEL15',\n",
       "       'ARR_TIME', 'ARR_DEL15', 'CANCELLED', 'DEP_TIME_BLK'],\n",
       "      dtype='object')"
      ]
     },
     "execution_count": 196,
     "metadata": {},
     "output_type": "execute_result"
    }
   ],
   "source": [
    "df_final.columns"
   ]
  },
  {
   "cell_type": "code",
   "execution_count": 197,
   "metadata": {},
   "outputs": [],
   "source": [
    "X = df_final.drop([\"DEP_DEL15\"],axis=1)"
   ]
  },
  {
   "cell_type": "code",
   "execution_count": 212,
   "metadata": {},
   "outputs": [],
   "source": [
    "X_train, X_test, y_train, y_test = train_test_split(X, y, test_size=0.33, random_state=42)"
   ]
  },
  {
   "cell_type": "code",
   "execution_count": 199,
   "metadata": {
    "collapsed": true
   },
   "outputs": [
    {
     "data": {
      "text/html": [
       "<div>\n",
       "<style scoped>\n",
       "    .dataframe tbody tr th:only-of-type {\n",
       "        vertical-align: middle;\n",
       "    }\n",
       "\n",
       "    .dataframe tbody tr th {\n",
       "        vertical-align: top;\n",
       "    }\n",
       "\n",
       "    .dataframe thead th {\n",
       "        text-align: right;\n",
       "    }\n",
       "</style>\n",
       "<table border=\"1\" class=\"dataframe\">\n",
       "  <thead>\n",
       "    <tr style=\"text-align: right;\">\n",
       "      <th></th>\n",
       "      <th>DAY_OF_WEEK</th>\n",
       "      <th>OP_CARRIER_AIRLINE_ID</th>\n",
       "      <th>DEP_TIME</th>\n",
       "      <th>ARR_TIME</th>\n",
       "      <th>ARR_DEL15</th>\n",
       "      <th>CANCELLED</th>\n",
       "      <th>DEP_TIME_BLK</th>\n",
       "    </tr>\n",
       "  </thead>\n",
       "  <tbody>\n",
       "    <tr>\n",
       "      <th>124526</th>\n",
       "      <td>2</td>\n",
       "      <td>19790</td>\n",
       "      <td>1425.000000</td>\n",
       "      <td>1948.000000</td>\n",
       "      <td>0.0</td>\n",
       "      <td>0.0</td>\n",
       "      <td>9</td>\n",
       "    </tr>\n",
       "    <tr>\n",
       "      <th>172436</th>\n",
       "      <td>4</td>\n",
       "      <td>19805</td>\n",
       "      <td>1423.000000</td>\n",
       "      <td>1611.000000</td>\n",
       "      <td>0.0</td>\n",
       "      <td>0.0</td>\n",
       "      <td>9</td>\n",
       "    </tr>\n",
       "    <tr>\n",
       "      <th>150404</th>\n",
       "      <td>3</td>\n",
       "      <td>19790</td>\n",
       "      <td>629.000000</td>\n",
       "      <td>1030.000000</td>\n",
       "      <td>0.0</td>\n",
       "      <td>0.0</td>\n",
       "      <td>1</td>\n",
       "    </tr>\n",
       "    <tr>\n",
       "      <th>519194</th>\n",
       "      <td>1</td>\n",
       "      <td>20452</td>\n",
       "      <td>1410.000000</td>\n",
       "      <td>1800.000000</td>\n",
       "      <td>0.0</td>\n",
       "      <td>0.0</td>\n",
       "      <td>9</td>\n",
       "    </tr>\n",
       "    <tr>\n",
       "      <th>221265</th>\n",
       "      <td>6</td>\n",
       "      <td>19393</td>\n",
       "      <td>706.000000</td>\n",
       "      <td>827.000000</td>\n",
       "      <td>0.0</td>\n",
       "      <td>0.0</td>\n",
       "      <td>2</td>\n",
       "    </tr>\n",
       "    <tr>\n",
       "      <th>273481</th>\n",
       "      <td>2</td>\n",
       "      <td>19805</td>\n",
       "      <td>1342.000000</td>\n",
       "      <td>1649.000000</td>\n",
       "      <td>0.0</td>\n",
       "      <td>0.0</td>\n",
       "      <td>8</td>\n",
       "    </tr>\n",
       "    <tr>\n",
       "      <th>345924</th>\n",
       "      <td>6</td>\n",
       "      <td>20409</td>\n",
       "      <td>1937.000000</td>\n",
       "      <td>2359.000000</td>\n",
       "      <td>1.0</td>\n",
       "      <td>0.0</td>\n",
       "      <td>14</td>\n",
       "    </tr>\n",
       "    <tr>\n",
       "      <th>315763</th>\n",
       "      <td>5</td>\n",
       "      <td>19393</td>\n",
       "      <td>550.000000</td>\n",
       "      <td>712.000000</td>\n",
       "      <td>0.0</td>\n",
       "      <td>0.0</td>\n",
       "      <td>0</td>\n",
       "    </tr>\n",
       "    <tr>\n",
       "      <th>107029</th>\n",
       "      <td>1</td>\n",
       "      <td>19977</td>\n",
       "      <td>629.000000</td>\n",
       "      <td>733.000000</td>\n",
       "      <td>0.0</td>\n",
       "      <td>0.0</td>\n",
       "      <td>1</td>\n",
       "    </tr>\n",
       "    <tr>\n",
       "      <th>349960</th>\n",
       "      <td>6</td>\n",
       "      <td>20304</td>\n",
       "      <td>1610.000000</td>\n",
       "      <td>1716.000000</td>\n",
       "      <td>0.0</td>\n",
       "      <td>0.0</td>\n",
       "      <td>11</td>\n",
       "    </tr>\n",
       "    <tr>\n",
       "      <th>148083</th>\n",
       "      <td>3</td>\n",
       "      <td>19790</td>\n",
       "      <td>1349.000000</td>\n",
       "      <td>1514.000000</td>\n",
       "      <td>0.0</td>\n",
       "      <td>0.0</td>\n",
       "      <td>8</td>\n",
       "    </tr>\n",
       "    <tr>\n",
       "      <th>570907</th>\n",
       "      <td>4</td>\n",
       "      <td>19930</td>\n",
       "      <td>2234.000000</td>\n",
       "      <td>123.000000</td>\n",
       "      <td>0.0</td>\n",
       "      <td>0.0</td>\n",
       "      <td>17</td>\n",
       "    </tr>\n",
       "    <tr>\n",
       "      <th>232417</th>\n",
       "      <td>7</td>\n",
       "      <td>19805</td>\n",
       "      <td>1717.000000</td>\n",
       "      <td>2008.000000</td>\n",
       "      <td>0.0</td>\n",
       "      <td>0.0</td>\n",
       "      <td>12</td>\n",
       "    </tr>\n",
       "    <tr>\n",
       "      <th>435992</th>\n",
       "      <td>4</td>\n",
       "      <td>20409</td>\n",
       "      <td>2043.000000</td>\n",
       "      <td>429.000000</td>\n",
       "      <td>0.0</td>\n",
       "      <td>0.0</td>\n",
       "      <td>15</td>\n",
       "    </tr>\n",
       "    <tr>\n",
       "      <th>34036</th>\n",
       "      <td>4</td>\n",
       "      <td>19977</td>\n",
       "      <td>1222.000000</td>\n",
       "      <td>1438.000000</td>\n",
       "      <td>0.0</td>\n",
       "      <td>0.0</td>\n",
       "      <td>7</td>\n",
       "    </tr>\n",
       "    <tr>\n",
       "      <th>40086</th>\n",
       "      <td>5</td>\n",
       "      <td>19805</td>\n",
       "      <td>554.000000</td>\n",
       "      <td>821.000000</td>\n",
       "      <td>0.0</td>\n",
       "      <td>0.0</td>\n",
       "      <td>1</td>\n",
       "    </tr>\n",
       "    <tr>\n",
       "      <th>31102</th>\n",
       "      <td>4</td>\n",
       "      <td>19805</td>\n",
       "      <td>1507.000000</td>\n",
       "      <td>1729.000000</td>\n",
       "      <td>0.0</td>\n",
       "      <td>0.0</td>\n",
       "      <td>10</td>\n",
       "    </tr>\n",
       "    <tr>\n",
       "      <th>395085</th>\n",
       "      <td>2</td>\n",
       "      <td>20397</td>\n",
       "      <td>1753.000000</td>\n",
       "      <td>1932.000000</td>\n",
       "      <td>0.0</td>\n",
       "      <td>0.0</td>\n",
       "      <td>13</td>\n",
       "    </tr>\n",
       "    <tr>\n",
       "      <th>402067</th>\n",
       "      <td>2</td>\n",
       "      <td>20409</td>\n",
       "      <td>545.000000</td>\n",
       "      <td>838.000000</td>\n",
       "      <td>0.0</td>\n",
       "      <td>0.0</td>\n",
       "      <td>1</td>\n",
       "    </tr>\n",
       "    <tr>\n",
       "      <th>193632</th>\n",
       "      <td>5</td>\n",
       "      <td>20409</td>\n",
       "      <td>2206.000000</td>\n",
       "      <td>2307.000000</td>\n",
       "      <td>1.0</td>\n",
       "      <td>0.0</td>\n",
       "      <td>16</td>\n",
       "    </tr>\n",
       "    <tr>\n",
       "      <th>31273</th>\n",
       "      <td>3</td>\n",
       "      <td>20304</td>\n",
       "      <td>1827.000000</td>\n",
       "      <td>2036.000000</td>\n",
       "      <td>0.0</td>\n",
       "      <td>0.0</td>\n",
       "      <td>13</td>\n",
       "    </tr>\n",
       "    <tr>\n",
       "      <th>39927</th>\n",
       "      <td>4</td>\n",
       "      <td>20304</td>\n",
       "      <td>1407.000000</td>\n",
       "      <td>1654.000000</td>\n",
       "      <td>1.0</td>\n",
       "      <td>0.0</td>\n",
       "      <td>9</td>\n",
       "    </tr>\n",
       "    <tr>\n",
       "      <th>14919</th>\n",
       "      <td>2</td>\n",
       "      <td>19393</td>\n",
       "      <td>1410.000000</td>\n",
       "      <td>1534.000000</td>\n",
       "      <td>0.0</td>\n",
       "      <td>0.0</td>\n",
       "      <td>9</td>\n",
       "    </tr>\n",
       "    <tr>\n",
       "      <th>537038</th>\n",
       "      <td>2</td>\n",
       "      <td>19393</td>\n",
       "      <td>1316.000000</td>\n",
       "      <td>1810.000000</td>\n",
       "      <td>0.0</td>\n",
       "      <td>0.0</td>\n",
       "      <td>8</td>\n",
       "    </tr>\n",
       "    <tr>\n",
       "      <th>498683</th>\n",
       "      <td>7</td>\n",
       "      <td>20397</td>\n",
       "      <td>2256.000000</td>\n",
       "      <td>2354.000000</td>\n",
       "      <td>1.0</td>\n",
       "      <td>0.0</td>\n",
       "      <td>17</td>\n",
       "    </tr>\n",
       "    <tr>\n",
       "      <th>323830</th>\n",
       "      <td>5</td>\n",
       "      <td>19930</td>\n",
       "      <td>732.000000</td>\n",
       "      <td>1535.000000</td>\n",
       "      <td>0.0</td>\n",
       "      <td>0.0</td>\n",
       "      <td>2</td>\n",
       "    </tr>\n",
       "    <tr>\n",
       "      <th>168517</th>\n",
       "      <td>3</td>\n",
       "      <td>19393</td>\n",
       "      <td>1245.000000</td>\n",
       "      <td>1526.000000</td>\n",
       "      <td>0.0</td>\n",
       "      <td>0.0</td>\n",
       "      <td>7</td>\n",
       "    </tr>\n",
       "    <tr>\n",
       "      <th>433988</th>\n",
       "      <td>4</td>\n",
       "      <td>19790</td>\n",
       "      <td>823.000000</td>\n",
       "      <td>837.000000</td>\n",
       "      <td>0.0</td>\n",
       "      <td>0.0</td>\n",
       "      <td>3</td>\n",
       "    </tr>\n",
       "    <tr>\n",
       "      <th>542737</th>\n",
       "      <td>2</td>\n",
       "      <td>20398</td>\n",
       "      <td>1414.000000</td>\n",
       "      <td>1604.000000</td>\n",
       "      <td>1.0</td>\n",
       "      <td>0.0</td>\n",
       "      <td>9</td>\n",
       "    </tr>\n",
       "    <tr>\n",
       "      <th>77289</th>\n",
       "      <td>5</td>\n",
       "      <td>20378</td>\n",
       "      <td>1231.000000</td>\n",
       "      <td>1350.000000</td>\n",
       "      <td>0.0</td>\n",
       "      <td>0.0</td>\n",
       "      <td>7</td>\n",
       "    </tr>\n",
       "    <tr>\n",
       "      <th>...</th>\n",
       "      <td>...</td>\n",
       "      <td>...</td>\n",
       "      <td>...</td>\n",
       "      <td>...</td>\n",
       "      <td>...</td>\n",
       "      <td>...</td>\n",
       "      <td>...</td>\n",
       "    </tr>\n",
       "    <tr>\n",
       "      <th>594572</th>\n",
       "      <td>5</td>\n",
       "      <td>20304</td>\n",
       "      <td>1655.000000</td>\n",
       "      <td>1841.000000</td>\n",
       "      <td>1.0</td>\n",
       "      <td>0.0</td>\n",
       "      <td>10</td>\n",
       "    </tr>\n",
       "    <tr>\n",
       "      <th>65725</th>\n",
       "      <td>5</td>\n",
       "      <td>19805</td>\n",
       "      <td>2330.000000</td>\n",
       "      <td>511.000000</td>\n",
       "      <td>0.0</td>\n",
       "      <td>0.0</td>\n",
       "      <td>18</td>\n",
       "    </tr>\n",
       "    <tr>\n",
       "      <th>64158</th>\n",
       "      <td>6</td>\n",
       "      <td>20304</td>\n",
       "      <td>1029.000000</td>\n",
       "      <td>1030.000000</td>\n",
       "      <td>0.0</td>\n",
       "      <td>0.0</td>\n",
       "      <td>5</td>\n",
       "    </tr>\n",
       "    <tr>\n",
       "      <th>527035</th>\n",
       "      <td>2</td>\n",
       "      <td>20304</td>\n",
       "      <td>1725.000000</td>\n",
       "      <td>1955.000000</td>\n",
       "      <td>1.0</td>\n",
       "      <td>0.0</td>\n",
       "      <td>9</td>\n",
       "    </tr>\n",
       "    <tr>\n",
       "      <th>70826</th>\n",
       "      <td>6</td>\n",
       "      <td>20452</td>\n",
       "      <td>1555.000000</td>\n",
       "      <td>1725.000000</td>\n",
       "      <td>0.0</td>\n",
       "      <td>0.0</td>\n",
       "      <td>11</td>\n",
       "    </tr>\n",
       "    <tr>\n",
       "      <th>156730</th>\n",
       "      <td>3</td>\n",
       "      <td>19393</td>\n",
       "      <td>1522.000000</td>\n",
       "      <td>1647.000000</td>\n",
       "      <td>0.0</td>\n",
       "      <td>0.0</td>\n",
       "      <td>10</td>\n",
       "    </tr>\n",
       "    <tr>\n",
       "      <th>333055</th>\n",
       "      <td>5</td>\n",
       "      <td>19790</td>\n",
       "      <td>1055.000000</td>\n",
       "      <td>1307.000000</td>\n",
       "      <td>0.0</td>\n",
       "      <td>0.0</td>\n",
       "      <td>6</td>\n",
       "    </tr>\n",
       "    <tr>\n",
       "      <th>486232</th>\n",
       "      <td>6</td>\n",
       "      <td>20398</td>\n",
       "      <td>1445.000000</td>\n",
       "      <td>1637.000000</td>\n",
       "      <td>1.0</td>\n",
       "      <td>0.0</td>\n",
       "      <td>9</td>\n",
       "    </tr>\n",
       "    <tr>\n",
       "      <th>405451</th>\n",
       "      <td>2</td>\n",
       "      <td>19393</td>\n",
       "      <td>1344.000000</td>\n",
       "      <td>1634.000000</td>\n",
       "      <td>0.0</td>\n",
       "      <td>0.0</td>\n",
       "      <td>8</td>\n",
       "    </tr>\n",
       "    <tr>\n",
       "      <th>184779</th>\n",
       "      <td>4</td>\n",
       "      <td>20397</td>\n",
       "      <td>804.000000</td>\n",
       "      <td>1002.000000</td>\n",
       "      <td>0.0</td>\n",
       "      <td>0.0</td>\n",
       "      <td>3</td>\n",
       "    </tr>\n",
       "    <tr>\n",
       "      <th>103355</th>\n",
       "      <td>7</td>\n",
       "      <td>19805</td>\n",
       "      <td>1955.000000</td>\n",
       "      <td>2146.000000</td>\n",
       "      <td>0.0</td>\n",
       "      <td>0.0</td>\n",
       "      <td>14</td>\n",
       "    </tr>\n",
       "    <tr>\n",
       "      <th>207758</th>\n",
       "      <td>6</td>\n",
       "      <td>20304</td>\n",
       "      <td>1331.728889</td>\n",
       "      <td>1481.051755</td>\n",
       "      <td>0.0</td>\n",
       "      <td>1.0</td>\n",
       "      <td>13</td>\n",
       "    </tr>\n",
       "    <tr>\n",
       "      <th>327069</th>\n",
       "      <td>5</td>\n",
       "      <td>19977</td>\n",
       "      <td>1406.000000</td>\n",
       "      <td>1610.000000</td>\n",
       "      <td>0.0</td>\n",
       "      <td>0.0</td>\n",
       "      <td>9</td>\n",
       "    </tr>\n",
       "    <tr>\n",
       "      <th>203216</th>\n",
       "      <td>6</td>\n",
       "      <td>19393</td>\n",
       "      <td>1737.000000</td>\n",
       "      <td>2011.000000</td>\n",
       "      <td>1.0</td>\n",
       "      <td>0.0</td>\n",
       "      <td>11</td>\n",
       "    </tr>\n",
       "    <tr>\n",
       "      <th>529411</th>\n",
       "      <td>2</td>\n",
       "      <td>19977</td>\n",
       "      <td>930.000000</td>\n",
       "      <td>1040.000000</td>\n",
       "      <td>0.0</td>\n",
       "      <td>0.0</td>\n",
       "      <td>4</td>\n",
       "    </tr>\n",
       "    <tr>\n",
       "      <th>329365</th>\n",
       "      <td>5</td>\n",
       "      <td>19393</td>\n",
       "      <td>914.000000</td>\n",
       "      <td>1146.000000</td>\n",
       "      <td>0.0</td>\n",
       "      <td>0.0</td>\n",
       "      <td>4</td>\n",
       "    </tr>\n",
       "    <tr>\n",
       "      <th>41090</th>\n",
       "      <td>4</td>\n",
       "      <td>20397</td>\n",
       "      <td>1715.000000</td>\n",
       "      <td>1819.000000</td>\n",
       "      <td>0.0</td>\n",
       "      <td>0.0</td>\n",
       "      <td>12</td>\n",
       "    </tr>\n",
       "    <tr>\n",
       "      <th>278167</th>\n",
       "      <td>2</td>\n",
       "      <td>19790</td>\n",
       "      <td>1005.000000</td>\n",
       "      <td>1306.000000</td>\n",
       "      <td>0.0</td>\n",
       "      <td>0.0</td>\n",
       "      <td>5</td>\n",
       "    </tr>\n",
       "    <tr>\n",
       "      <th>175203</th>\n",
       "      <td>4</td>\n",
       "      <td>19393</td>\n",
       "      <td>812.000000</td>\n",
       "      <td>928.000000</td>\n",
       "      <td>1.0</td>\n",
       "      <td>0.0</td>\n",
       "      <td>2</td>\n",
       "    </tr>\n",
       "    <tr>\n",
       "      <th>328771</th>\n",
       "      <td>5</td>\n",
       "      <td>20304</td>\n",
       "      <td>916.000000</td>\n",
       "      <td>1040.000000</td>\n",
       "      <td>0.0</td>\n",
       "      <td>0.0</td>\n",
       "      <td>3</td>\n",
       "    </tr>\n",
       "    <tr>\n",
       "      <th>552089</th>\n",
       "      <td>3</td>\n",
       "      <td>19393</td>\n",
       "      <td>618.000000</td>\n",
       "      <td>720.000000</td>\n",
       "      <td>0.0</td>\n",
       "      <td>0.0</td>\n",
       "      <td>1</td>\n",
       "    </tr>\n",
       "    <tr>\n",
       "      <th>415905</th>\n",
       "      <td>3</td>\n",
       "      <td>20363</td>\n",
       "      <td>1342.000000</td>\n",
       "      <td>1506.000000</td>\n",
       "      <td>0.0</td>\n",
       "      <td>0.0</td>\n",
       "      <td>8</td>\n",
       "    </tr>\n",
       "    <tr>\n",
       "      <th>137337</th>\n",
       "      <td>2</td>\n",
       "      <td>20416</td>\n",
       "      <td>2236.000000</td>\n",
       "      <td>554.000000</td>\n",
       "      <td>0.0</td>\n",
       "      <td>0.0</td>\n",
       "      <td>17</td>\n",
       "    </tr>\n",
       "    <tr>\n",
       "      <th>519477</th>\n",
       "      <td>1</td>\n",
       "      <td>20363</td>\n",
       "      <td>1819.000000</td>\n",
       "      <td>2038.000000</td>\n",
       "      <td>1.0</td>\n",
       "      <td>0.0</td>\n",
       "      <td>10</td>\n",
       "    </tr>\n",
       "    <tr>\n",
       "      <th>148195</th>\n",
       "      <td>3</td>\n",
       "      <td>19790</td>\n",
       "      <td>1929.000000</td>\n",
       "      <td>2049.000000</td>\n",
       "      <td>1.0</td>\n",
       "      <td>0.0</td>\n",
       "      <td>13</td>\n",
       "    </tr>\n",
       "    <tr>\n",
       "      <th>110268</th>\n",
       "      <td>7</td>\n",
       "      <td>19790</td>\n",
       "      <td>1224.000000</td>\n",
       "      <td>1445.000000</td>\n",
       "      <td>0.0</td>\n",
       "      <td>0.0</td>\n",
       "      <td>7</td>\n",
       "    </tr>\n",
       "    <tr>\n",
       "      <th>259178</th>\n",
       "      <td>1</td>\n",
       "      <td>20409</td>\n",
       "      <td>1507.000000</td>\n",
       "      <td>1752.000000</td>\n",
       "      <td>0.0</td>\n",
       "      <td>0.0</td>\n",
       "      <td>10</td>\n",
       "    </tr>\n",
       "    <tr>\n",
       "      <th>131932</th>\n",
       "      <td>1</td>\n",
       "      <td>19977</td>\n",
       "      <td>716.000000</td>\n",
       "      <td>936.000000</td>\n",
       "      <td>0.0</td>\n",
       "      <td>0.0</td>\n",
       "      <td>2</td>\n",
       "    </tr>\n",
       "    <tr>\n",
       "      <th>87170</th>\n",
       "      <td>7</td>\n",
       "      <td>19393</td>\n",
       "      <td>600.000000</td>\n",
       "      <td>741.000000</td>\n",
       "      <td>0.0</td>\n",
       "      <td>0.0</td>\n",
       "      <td>1</td>\n",
       "    </tr>\n",
       "    <tr>\n",
       "      <th>121958</th>\n",
       "      <td>1</td>\n",
       "      <td>20398</td>\n",
       "      <td>728.000000</td>\n",
       "      <td>1041.000000</td>\n",
       "      <td>0.0</td>\n",
       "      <td>0.0</td>\n",
       "      <td>2</td>\n",
       "    </tr>\n",
       "  </tbody>\n",
       "</table>\n",
       "<p>798191 rows × 7 columns</p>\n",
       "</div>"
      ],
      "text/plain": [
       "        DAY_OF_WEEK  OP_CARRIER_AIRLINE_ID     DEP_TIME     ARR_TIME  \\\n",
       "124526            2                  19790  1425.000000  1948.000000   \n",
       "172436            4                  19805  1423.000000  1611.000000   \n",
       "150404            3                  19790   629.000000  1030.000000   \n",
       "519194            1                  20452  1410.000000  1800.000000   \n",
       "221265            6                  19393   706.000000   827.000000   \n",
       "273481            2                  19805  1342.000000  1649.000000   \n",
       "345924            6                  20409  1937.000000  2359.000000   \n",
       "315763            5                  19393   550.000000   712.000000   \n",
       "107029            1                  19977   629.000000   733.000000   \n",
       "349960            6                  20304  1610.000000  1716.000000   \n",
       "148083            3                  19790  1349.000000  1514.000000   \n",
       "570907            4                  19930  2234.000000   123.000000   \n",
       "232417            7                  19805  1717.000000  2008.000000   \n",
       "435992            4                  20409  2043.000000   429.000000   \n",
       "34036             4                  19977  1222.000000  1438.000000   \n",
       "40086             5                  19805   554.000000   821.000000   \n",
       "31102             4                  19805  1507.000000  1729.000000   \n",
       "395085            2                  20397  1753.000000  1932.000000   \n",
       "402067            2                  20409   545.000000   838.000000   \n",
       "193632            5                  20409  2206.000000  2307.000000   \n",
       "31273             3                  20304  1827.000000  2036.000000   \n",
       "39927             4                  20304  1407.000000  1654.000000   \n",
       "14919             2                  19393  1410.000000  1534.000000   \n",
       "537038            2                  19393  1316.000000  1810.000000   \n",
       "498683            7                  20397  2256.000000  2354.000000   \n",
       "323830            5                  19930   732.000000  1535.000000   \n",
       "168517            3                  19393  1245.000000  1526.000000   \n",
       "433988            4                  19790   823.000000   837.000000   \n",
       "542737            2                  20398  1414.000000  1604.000000   \n",
       "77289             5                  20378  1231.000000  1350.000000   \n",
       "...             ...                    ...          ...          ...   \n",
       "594572            5                  20304  1655.000000  1841.000000   \n",
       "65725             5                  19805  2330.000000   511.000000   \n",
       "64158             6                  20304  1029.000000  1030.000000   \n",
       "527035            2                  20304  1725.000000  1955.000000   \n",
       "70826             6                  20452  1555.000000  1725.000000   \n",
       "156730            3                  19393  1522.000000  1647.000000   \n",
       "333055            5                  19790  1055.000000  1307.000000   \n",
       "486232            6                  20398  1445.000000  1637.000000   \n",
       "405451            2                  19393  1344.000000  1634.000000   \n",
       "184779            4                  20397   804.000000  1002.000000   \n",
       "103355            7                  19805  1955.000000  2146.000000   \n",
       "207758            6                  20304  1331.728889  1481.051755   \n",
       "327069            5                  19977  1406.000000  1610.000000   \n",
       "203216            6                  19393  1737.000000  2011.000000   \n",
       "529411            2                  19977   930.000000  1040.000000   \n",
       "329365            5                  19393   914.000000  1146.000000   \n",
       "41090             4                  20397  1715.000000  1819.000000   \n",
       "278167            2                  19790  1005.000000  1306.000000   \n",
       "175203            4                  19393   812.000000   928.000000   \n",
       "328771            5                  20304   916.000000  1040.000000   \n",
       "552089            3                  19393   618.000000   720.000000   \n",
       "415905            3                  20363  1342.000000  1506.000000   \n",
       "137337            2                  20416  2236.000000   554.000000   \n",
       "519477            1                  20363  1819.000000  2038.000000   \n",
       "148195            3                  19790  1929.000000  2049.000000   \n",
       "110268            7                  19790  1224.000000  1445.000000   \n",
       "259178            1                  20409  1507.000000  1752.000000   \n",
       "131932            1                  19977   716.000000   936.000000   \n",
       "87170             7                  19393   600.000000   741.000000   \n",
       "121958            1                  20398   728.000000  1041.000000   \n",
       "\n",
       "        ARR_DEL15  CANCELLED  DEP_TIME_BLK  \n",
       "124526        0.0        0.0             9  \n",
       "172436        0.0        0.0             9  \n",
       "150404        0.0        0.0             1  \n",
       "519194        0.0        0.0             9  \n",
       "221265        0.0        0.0             2  \n",
       "273481        0.0        0.0             8  \n",
       "345924        1.0        0.0            14  \n",
       "315763        0.0        0.0             0  \n",
       "107029        0.0        0.0             1  \n",
       "349960        0.0        0.0            11  \n",
       "148083        0.0        0.0             8  \n",
       "570907        0.0        0.0            17  \n",
       "232417        0.0        0.0            12  \n",
       "435992        0.0        0.0            15  \n",
       "34036         0.0        0.0             7  \n",
       "40086         0.0        0.0             1  \n",
       "31102         0.0        0.0            10  \n",
       "395085        0.0        0.0            13  \n",
       "402067        0.0        0.0             1  \n",
       "193632        1.0        0.0            16  \n",
       "31273         0.0        0.0            13  \n",
       "39927         1.0        0.0             9  \n",
       "14919         0.0        0.0             9  \n",
       "537038        0.0        0.0             8  \n",
       "498683        1.0        0.0            17  \n",
       "323830        0.0        0.0             2  \n",
       "168517        0.0        0.0             7  \n",
       "433988        0.0        0.0             3  \n",
       "542737        1.0        0.0             9  \n",
       "77289         0.0        0.0             7  \n",
       "...           ...        ...           ...  \n",
       "594572        1.0        0.0            10  \n",
       "65725         0.0        0.0            18  \n",
       "64158         0.0        0.0             5  \n",
       "527035        1.0        0.0             9  \n",
       "70826         0.0        0.0            11  \n",
       "156730        0.0        0.0            10  \n",
       "333055        0.0        0.0             6  \n",
       "486232        1.0        0.0             9  \n",
       "405451        0.0        0.0             8  \n",
       "184779        0.0        0.0             3  \n",
       "103355        0.0        0.0            14  \n",
       "207758        0.0        1.0            13  \n",
       "327069        0.0        0.0             9  \n",
       "203216        1.0        0.0            11  \n",
       "529411        0.0        0.0             4  \n",
       "329365        0.0        0.0             4  \n",
       "41090         0.0        0.0            12  \n",
       "278167        0.0        0.0             5  \n",
       "175203        1.0        0.0             2  \n",
       "328771        0.0        0.0             3  \n",
       "552089        0.0        0.0             1  \n",
       "415905        0.0        0.0             8  \n",
       "137337        0.0        0.0            17  \n",
       "519477        1.0        0.0            10  \n",
       "148195        1.0        0.0            13  \n",
       "110268        0.0        0.0             7  \n",
       "259178        0.0        0.0            10  \n",
       "131932        0.0        0.0             2  \n",
       "87170         0.0        0.0             1  \n",
       "121958        0.0        0.0             2  \n",
       "\n",
       "[798191 rows x 7 columns]"
      ]
     },
     "execution_count": 199,
     "metadata": {},
     "output_type": "execute_result"
    }
   ],
   "source": [
    "X_train"
   ]
  },
  {
   "cell_type": "code",
   "execution_count": 200,
   "metadata": {},
   "outputs": [
    {
     "data": {
      "text/plain": [
       "array([0., 1.])"
      ]
     },
     "execution_count": 200,
     "metadata": {},
     "output_type": "execute_result"
    }
   ],
   "source": [
    "df_final[\"DEP_DEL15\"].unique()"
   ]
  },
  {
   "cell_type": "code",
   "execution_count": 213,
   "metadata": {
    "scrolled": true
   },
   "outputs": [
    {
     "name": "stderr",
     "output_type": "stream",
     "text": [
      "C:\\Users\\Acer\\Anaconda3\\lib\\site-packages\\sklearn\\linear_model\\logistic.py:433: FutureWarning: Default solver will be changed to 'lbfgs' in 0.22. Specify a solver to silence this warning.\n",
      "  FutureWarning)\n"
     ]
    }
   ],
   "source": [
    "from sklearn.linear_model import LogisticRegression\n",
    "clf = LogisticRegression(random_state=0).fit(X_train, y_train)"
   ]
  },
  {
   "cell_type": "code",
   "execution_count": 214,
   "metadata": {},
   "outputs": [],
   "source": [
    "from sklearn.model_selection import RandomizedSearchCV, cross_val_score"
   ]
  },
  {
   "cell_type": "code",
   "execution_count": 215,
   "metadata": {},
   "outputs": [
    {
     "name": "stderr",
     "output_type": "stream",
     "text": [
      "C:\\Users\\Acer\\Anaconda3\\lib\\site-packages\\sklearn\\model_selection\\_split.py:2053: FutureWarning: You should specify a value for 'cv' instead of relying on the default value. The default value will change from 3 to 5 in version 0.22.\n",
      "  warnings.warn(CV_WARNING, FutureWarning)\n",
      "C:\\Users\\Acer\\Anaconda3\\lib\\site-packages\\sklearn\\linear_model\\logistic.py:433: FutureWarning: Default solver will be changed to 'lbfgs' in 0.22. Specify a solver to silence this warning.\n",
      "  FutureWarning)\n",
      "C:\\Users\\Acer\\Anaconda3\\lib\\site-packages\\sklearn\\linear_model\\logistic.py:433: FutureWarning: Default solver will be changed to 'lbfgs' in 0.22. Specify a solver to silence this warning.\n",
      "  FutureWarning)\n",
      "C:\\Users\\Acer\\Anaconda3\\lib\\site-packages\\sklearn\\linear_model\\logistic.py:433: FutureWarning: Default solver will be changed to 'lbfgs' in 0.22. Specify a solver to silence this warning.\n",
      "  FutureWarning)\n"
     ]
    },
    {
     "data": {
      "text/plain": [
       "0.9259220616492981"
      ]
     },
     "execution_count": 215,
     "metadata": {},
     "output_type": "execute_result"
    }
   ],
   "source": [
    "cross_val_score(estimator=clf, X=X_test, y=y_test).mean()"
   ]
  },
  {
   "cell_type": "code",
   "execution_count": 216,
   "metadata": {},
   "outputs": [],
   "source": [
    "from sklearn.pipeline import Pipeline"
   ]
  },
  {
   "cell_type": "code",
   "execution_count": 217,
   "metadata": {},
   "outputs": [],
   "source": [
    "from sklearn.ensemble import RandomForestClassifier"
   ]
  },
  {
   "cell_type": "code",
   "execution_count": 218,
   "metadata": {},
   "outputs": [
    {
     "name": "stderr",
     "output_type": "stream",
     "text": [
      "C:\\Users\\Acer\\Anaconda3\\lib\\site-packages\\sklearn\\ensemble\\forest.py:246: FutureWarning: The default value of n_estimators will change from 10 in version 0.20 to 100 in 0.22.\n",
      "  \"10 in version 0.20 to 100 in 0.22.\", FutureWarning)\n"
     ]
    },
    {
     "data": {
      "text/plain": [
       "RandomForestClassifier(bootstrap=True, class_weight=None, criterion='gini',\n",
       "            max_depth=2, max_features='auto', max_leaf_nodes=None,\n",
       "            min_impurity_decrease=0.0, min_impurity_split=None,\n",
       "            min_samples_leaf=1, min_samples_split=2,\n",
       "            min_weight_fraction_leaf=0.0, n_estimators=10, n_jobs=None,\n",
       "            oob_score=False, random_state=0, verbose=0, warm_start=False)"
      ]
     },
     "execution_count": 218,
     "metadata": {},
     "output_type": "execute_result"
    }
   ],
   "source": [
    "clf1 = RandomForestClassifier(max_depth=2, random_state=0)\n",
    "clf1.fit(X_train, y_train)"
   ]
  },
  {
   "cell_type": "code",
   "execution_count": 219,
   "metadata": {},
   "outputs": [
    {
     "name": "stderr",
     "output_type": "stream",
     "text": [
      "C:\\Users\\Acer\\Anaconda3\\lib\\site-packages\\sklearn\\model_selection\\_split.py:2053: FutureWarning: You should specify a value for 'cv' instead of relying on the default value. The default value will change from 3 to 5 in version 0.22.\n",
      "  warnings.warn(CV_WARNING, FutureWarning)\n"
     ]
    },
    {
     "data": {
      "text/plain": [
       "0.8636032969037846"
      ]
     },
     "execution_count": 219,
     "metadata": {},
     "output_type": "execute_result"
    }
   ],
   "source": [
    "cross_val_score(estimator=clf1, X=X_test, y=y_test).mean()"
   ]
  },
  {
   "cell_type": "code",
   "execution_count": null,
   "metadata": {},
   "outputs": [],
   "source": [
    "from sklearn.model_selection import GridSearchCV"
   ]
  },
  {
   "cell_type": "code",
   "execution_count": null,
   "metadata": {},
   "outputs": [],
   "source": [
    "C = np.linspace(1,200)"
   ]
  },
  {
   "cell_type": "code",
   "execution_count": null,
   "metadata": {},
   "outputs": [],
   "source": [
    "penalty = [\"l1\",\"l2\"]"
   ]
  },
  {
   "cell_type": "markdown",
   "metadata": {},
   "source": [
    "params = dict(C=C,penalty=penalty)\n",
    "Rand = RandomizedSearchCV(clf,param_distributions=params,n_iter=100,n_jobs=-1,cv=5,random_state=1)\n",
    "Rand.fit(X_train,y_train)\n",
    "print(Rand.best_params_)"
   ]
  },
  {
   "cell_type": "markdown",
   "metadata": {},
   "source": [
    "param_grid = { \n",
    "    'n_estimators': [200,300,400,500,600,700,800],\n",
    "    'max_features': ['auto', 'sqrt', 'log2'],\n",
    "    'max_depth' : [4,5,6,7,8],\n",
    "    'criterion' :['gini', 'entropy'],\n",
    "    'bootstrap':[True,False]\n",
    "}"
   ]
  },
  {
   "cell_type": "markdown",
   "metadata": {},
   "source": [
    "Rand2 = RandomizedSearchCV(clf1,param_distributions=param_grid,n_iter=100,n_jobs=-1,cv=5,random_state=1)\n",
    "Rand2.fit(X_train,y_train)\n",
    "print(Rand2.best_params_)"
   ]
  },
  {
   "cell_type": "code",
   "execution_count": 220,
   "metadata": {},
   "outputs": [],
   "source": [
    "from sklearn import tree\n",
    "clf4 = tree.DecisionTreeClassifier()\n",
    "clf4 = clf4.fit(X_train, y_train)"
   ]
  },
  {
   "cell_type": "code",
   "execution_count": 221,
   "metadata": {},
   "outputs": [
    {
     "name": "stderr",
     "output_type": "stream",
     "text": [
      "C:\\Users\\Acer\\Anaconda3\\lib\\site-packages\\sklearn\\model_selection\\_split.py:2053: FutureWarning: You should specify a value for 'cv' instead of relying on the default value. The default value will change from 3 to 5 in version 0.22.\n",
      "  warnings.warn(CV_WARNING, FutureWarning)\n"
     ]
    },
    {
     "data": {
      "text/plain": [
       "0.9226713144635376"
      ]
     },
     "execution_count": 221,
     "metadata": {},
     "output_type": "execute_result"
    }
   ],
   "source": [
    "cross_val_score(estimator=clf4, X=X_test, y=y_test).mean()  "
   ]
  },
  {
   "cell_type": "code",
   "execution_count": 222,
   "metadata": {},
   "outputs": [
    {
     "name": "stderr",
     "output_type": "stream",
     "text": [
      "C:\\Users\\Acer\\Anaconda3\\lib\\site-packages\\sklearn\\linear_model\\logistic.py:433: FutureWarning: Default solver will be changed to 'lbfgs' in 0.22. Specify a solver to silence this warning.\n",
      "  FutureWarning)\n"
     ]
    },
    {
     "data": {
      "text/plain": [
       "LogisticRegression(C=1.0, class_weight=None, dual=False, fit_intercept=True,\n",
       "          intercept_scaling=1, max_iter=100, multi_class='warn',\n",
       "          n_jobs=None, penalty='l2', random_state=0, solver='warn',\n",
       "          tol=0.0001, verbose=0, warm_start=False)"
      ]
     },
     "execution_count": 222,
     "metadata": {},
     "output_type": "execute_result"
    }
   ],
   "source": [
    "clf.fit(X,y)"
   ]
  },
  {
   "cell_type": "code",
   "execution_count": 223,
   "metadata": {},
   "outputs": [],
   "source": [
    "import pickle"
   ]
  },
  {
   "cell_type": "code",
   "execution_count": 232,
   "metadata": {},
   "outputs": [],
   "source": [
    "pickle.dump(clf,open('flight_model.pkl','wb'))"
   ]
  },
  {
   "cell_type": "code",
   "execution_count": 234,
   "metadata": {},
   "outputs": [],
   "source": [
    "model = pickle.load(open('flight_model.pkl','rb'))"
   ]
  },
  {
   "cell_type": "code",
   "execution_count": 235,
   "metadata": {},
   "outputs": [
    {
     "data": {
      "text/plain": [
       "Index(['DAY_OF_WEEK', 'OP_CARRIER_AIRLINE_ID', 'DEP_TIME', 'DEP_DEL15',\n",
       "       'ARR_TIME', 'ARR_DEL15', 'CANCELLED', 'DEP_TIME_BLK'],\n",
       "      dtype='object')"
      ]
     },
     "execution_count": 235,
     "metadata": {},
     "output_type": "execute_result"
    }
   ],
   "source": [
    "df_final.columns"
   ]
  },
  {
   "cell_type": "code",
   "execution_count": 238,
   "metadata": {},
   "outputs": [
    {
     "data": {
      "text/plain": [
       "count    1.191331e+06\n",
       "mean     1.481052e+03\n",
       "std      5.190585e+02\n",
       "min      1.000000e+00\n",
       "25%      1.106000e+03\n",
       "50%      1.503000e+03\n",
       "75%      1.914000e+03\n",
       "max      2.400000e+03\n",
       "Name: ARR_TIME, dtype: float64"
      ]
     },
     "execution_count": 238,
     "metadata": {},
     "output_type": "execute_result"
    }
   ],
   "source": [
    "df_final[\"ARR_TIME\"].describe()"
   ]
  },
  {
   "cell_type": "code",
   "execution_count": 239,
   "metadata": {},
   "outputs": [
    {
     "data": {
      "text/html": [
       "<div>\n",
       "<style scoped>\n",
       "    .dataframe tbody tr th:only-of-type {\n",
       "        vertical-align: middle;\n",
       "    }\n",
       "\n",
       "    .dataframe tbody tr th {\n",
       "        vertical-align: top;\n",
       "    }\n",
       "\n",
       "    .dataframe thead th {\n",
       "        text-align: right;\n",
       "    }\n",
       "</style>\n",
       "<table border=\"1\" class=\"dataframe\">\n",
       "  <thead>\n",
       "    <tr style=\"text-align: right;\">\n",
       "      <th></th>\n",
       "      <th>DAY_OF_WEEK</th>\n",
       "      <th>OP_CARRIER_AIRLINE_ID</th>\n",
       "      <th>DEP_TIME</th>\n",
       "      <th>DEP_DEL15</th>\n",
       "      <th>ARR_TIME</th>\n",
       "      <th>ARR_DEL15</th>\n",
       "      <th>CANCELLED</th>\n",
       "      <th>DEP_TIME_BLK</th>\n",
       "    </tr>\n",
       "  </thead>\n",
       "  <tbody>\n",
       "    <tr>\n",
       "      <th>0</th>\n",
       "      <td>2</td>\n",
       "      <td>20363</td>\n",
       "      <td>601.0</td>\n",
       "      <td>0.0</td>\n",
       "      <td>722.0</td>\n",
       "      <td>0.0</td>\n",
       "      <td>0.0</td>\n",
       "      <td>1</td>\n",
       "    </tr>\n",
       "    <tr>\n",
       "      <th>1</th>\n",
       "      <td>2</td>\n",
       "      <td>20363</td>\n",
       "      <td>1359.0</td>\n",
       "      <td>0.0</td>\n",
       "      <td>1633.0</td>\n",
       "      <td>0.0</td>\n",
       "      <td>0.0</td>\n",
       "      <td>9</td>\n",
       "    </tr>\n",
       "    <tr>\n",
       "      <th>2</th>\n",
       "      <td>2</td>\n",
       "      <td>20363</td>\n",
       "      <td>1215.0</td>\n",
       "      <td>0.0</td>\n",
       "      <td>1329.0</td>\n",
       "      <td>0.0</td>\n",
       "      <td>0.0</td>\n",
       "      <td>7</td>\n",
       "    </tr>\n",
       "    <tr>\n",
       "      <th>3</th>\n",
       "      <td>2</td>\n",
       "      <td>20363</td>\n",
       "      <td>1521.0</td>\n",
       "      <td>0.0</td>\n",
       "      <td>1625.0</td>\n",
       "      <td>0.0</td>\n",
       "      <td>0.0</td>\n",
       "      <td>10</td>\n",
       "    </tr>\n",
       "    <tr>\n",
       "      <th>4</th>\n",
       "      <td>2</td>\n",
       "      <td>20363</td>\n",
       "      <td>1847.0</td>\n",
       "      <td>0.0</td>\n",
       "      <td>1940.0</td>\n",
       "      <td>0.0</td>\n",
       "      <td>0.0</td>\n",
       "      <td>14</td>\n",
       "    </tr>\n",
       "  </tbody>\n",
       "</table>\n",
       "</div>"
      ],
      "text/plain": [
       "   DAY_OF_WEEK  OP_CARRIER_AIRLINE_ID  DEP_TIME  DEP_DEL15  ARR_TIME  \\\n",
       "0            2                  20363     601.0        0.0     722.0   \n",
       "1            2                  20363    1359.0        0.0    1633.0   \n",
       "2            2                  20363    1215.0        0.0    1329.0   \n",
       "3            2                  20363    1521.0        0.0    1625.0   \n",
       "4            2                  20363    1847.0        0.0    1940.0   \n",
       "\n",
       "   ARR_DEL15  CANCELLED  DEP_TIME_BLK  \n",
       "0        0.0        0.0             1  \n",
       "1        0.0        0.0             9  \n",
       "2        0.0        0.0             7  \n",
       "3        0.0        0.0            10  \n",
       "4        0.0        0.0            14  "
      ]
     },
     "execution_count": 239,
     "metadata": {},
     "output_type": "execute_result"
    }
   ],
   "source": [
    "df_final.head()"
   ]
  },
  {
   "cell_type": "code",
   "execution_count": null,
   "metadata": {},
   "outputs": [],
   "source": []
  }
 ],
 "metadata": {
  "kernelspec": {
   "display_name": "Python 3",
   "language": "python",
   "name": "python3"
  },
  "language_info": {
   "codemirror_mode": {
    "name": "ipython",
    "version": 3
   },
   "file_extension": ".py",
   "mimetype": "text/x-python",
   "name": "python",
   "nbconvert_exporter": "python",
   "pygments_lexer": "ipython3",
   "version": "3.7.1"
  }
 },
 "nbformat": 4,
 "nbformat_minor": 2
}
